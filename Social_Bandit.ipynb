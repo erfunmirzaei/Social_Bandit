{
  "cells": [
    {
      "cell_type": "markdown",
      "metadata": {
        "id": "view-in-github",
        "colab_type": "text"
      },
      "source": [
        "<a href=\"https://colab.research.google.com/github/erfunmirzaei/Social_Bandit/blob/main/Social_Bandit.ipynb\" target=\"_parent\"><img src=\"https://colab.research.google.com/assets/colab-badge.svg\" alt=\"Open In Colab\"/></a>"
      ]
    },
    {
      "cell_type": "code",
      "execution_count": 1,
      "metadata": {
        "id": "fmxTbpiBG2w3"
      },
      "outputs": [],
      "source": [
        "import numpy as np\n",
        "import csv\n",
        "import json\n",
        "import matplotlib.pyplot as plt\n",
        "import random\n",
        "import gym\n",
        "from math import sqrt\n",
        "from scipy.stats import t\n",
        "from statistics import mean\n",
        "from tqdm import tqdm\n",
        "from abc import ABC, abstractmethod"
      ]
    },
    {
      "cell_type": "code",
      "execution_count": null,
      "metadata": {
        "id": "XXGaCzywZb8N"
      },
      "outputs": [],
      "source": [
        "from google.colab import drive\n",
        "drive.mount('/content/drive')"
      ]
    },
    {
      "cell_type": "markdown",
      "metadata": {
        "id": "73ZyrJoSEr0j"
      },
      "source": [
        "# Implementations"
      ]
    },
    {
      "cell_type": "markdown",
      "metadata": {
        "id": "DDAUQ9OOE00W"
      },
      "source": [
        "## Rewards"
      ]
    },
    {
      "cell_type": "code",
      "execution_count": 2,
      "metadata": {
        "id": "JcicFR7yDweH"
      },
      "outputs": [],
      "source": [
        "class MultinomialReward():\n",
        "    def __init__(self, rewards, probs):\n",
        "        \"\"\"\n",
        "        rewards: a list of rewards are given by an specific arm\n",
        "        probs: a list of probabilities correspondant to each reward in rewards list\n",
        "        \"\"\"\n",
        "        self.rewards = rewards\n",
        "        self.probs = probs\n",
        "        self.mean = np.array(probs) @ np.array(rewards)        \n",
        "\n",
        "    def get_reward(self, t):\n",
        "        return random.choices(self.rewards, weights = self.probs, k = 1)[0]"
      ]
    },
    {
      "cell_type": "code",
      "execution_count": 3,
      "metadata": {
        "id": "ou6K5LJuDweI"
      },
      "outputs": [],
      "source": [
        "class DeteriministicReward():\n",
        "    def __init__(self, reward):\n",
        "        \"\"\"\n",
        "        rewards: a list of rewards are given by a specific arm\n",
        "        \"\"\"\n",
        "        self.reward = reward\n",
        "        self.mean = reward\n",
        "        \n",
        "    def get_reward(self, t):\n",
        "        return self.reward"
      ]
    },
    {
      "cell_type": "code",
      "execution_count": 4,
      "metadata": {
        "id": "nwIgeTb0DweJ"
      },
      "outputs": [],
      "source": [
        "class GaussianReward():\n",
        "    def __init__(self, mean, std):\n",
        "        \"\"\"\n",
        "        mean: a float shows the mean of gaussian distribution related to reward are given by a specific arm \n",
        "        std: a float shows the standard deviation of gaussian distribution related to reward are given by a specific arm\n",
        "        \"\"\"\n",
        "        self.mean = mean\n",
        "        self.std = std\n",
        "\n",
        "    def get_reward(self, t):\n",
        "        return np.random.normal(loc=self.mean, scale=self.std)"
      ]
    },
    {
      "cell_type": "code",
      "execution_count": 5,
      "metadata": {
        "id": "eliQKoxtDweJ"
      },
      "outputs": [],
      "source": [
        "class Students_t_distReward():\n",
        "    def __init__(self,dof, mean, std):\n",
        "        \"\"\"\n",
        "        dof: an integer shows degree of freedom for t-distribution\n",
        "        mean: a float shows the mean of gaussian distribution related to reward are given by a specific arm \n",
        "        std: a float shows the standard deviation of gaussian distribution related to reward are given by a specific arm\n",
        "        \"\"\"\n",
        "        self.dof = dof\n",
        "        self.mean = mean\n",
        "        self.std = std\n",
        "\n",
        "    def get_reward(self, t):\n",
        "        return t.rvs(df = self.dof, loc=self.mean, scale=self.std)"
      ]
    },
    {
      "cell_type": "code",
      "execution_count": 6,
      "metadata": {
        "id": "OqY-W0PZMG1d"
      },
      "outputs": [],
      "source": [
        "class MultinomialReward_NonStationary():\n",
        "    def __init__(self, rewards, probs, switch_t):\n",
        "        \"\"\"\n",
        "        rewards: a list of rewards are given by an specific arm\n",
        "        probs: a list of probabilities correspondant to each reward in rewards list\n",
        "        switch_t: an integer determine the swtich time\n",
        "        \"\"\"\n",
        "        self.rewards = rewards\n",
        "        self.probs = probs\n",
        "        self.mean = np.array(probs) @ np.array(rewards)  \n",
        "        self.switch_t = switch_t\n",
        "\n",
        "    def get_reward(self, t):\n",
        "        if t < self.switch_t:\n",
        "            return random.choices(self.rewards, weights = self.probs, k = 1)[0]\n",
        "        \n",
        "        else:\n",
        "            return random.choices(self.rewards[::-1], weights = self.probs, k = 1)[0]"
      ]
    },
    {
      "cell_type": "markdown",
      "metadata": {
        "id": "11fHtdR3E5X_"
      },
      "source": [
        "## N-Armed Bandit Environments"
      ]
    },
    {
      "cell_type": "code",
      "execution_count": 7,
      "metadata": {
        "id": "LHflIod8DweK"
      },
      "outputs": [],
      "source": [
        "class MutliArmedBanditEnvironment():\n",
        "    def __init__(self, rewards, episode_max_length, id = None, container=None):\n",
        "        \"\"\"\n",
        "        rewards: a list of reward object, length = number of arms\n",
        "        episode_max_length: maximum length of each episode \n",
        "        id: id of environment\n",
        "        container: \n",
        "        \"\"\"\n",
        "        state_space = gym.spaces.Discrete(1)\n",
        "        action_space = gym.spaces.Discrete(len(rewards))\n",
        "\n",
        "        self.action_space = action_space\n",
        "        self.observation_space = state_space\n",
        "        self.state = None\n",
        "        self.id = id\n",
        "        self.agents = {}\n",
        "        \n",
        "        if container != None:\n",
        "            container.register_environment(self)\n",
        "        self.arms_rewards = rewards # consits all rewards method\n",
        "        self.episode_max_length = episode_max_length\n",
        "        self.state = {\n",
        "            'length': 0,\n",
        "            'last_action': None\n",
        "        }\n",
        "\n",
        "    def add_agent(self, agent_id):\n",
        "        self.agents_last_choice[agent_id] = -1 \n",
        "        \n",
        "    def calculate_reward(self, action):\n",
        "        return self.arms_rewards[action].get_reward(self.state['length'])\n",
        "\n",
        "    def terminated(self):\n",
        "        return self.state['length'] >= self.episode_max_length\n",
        "\n",
        "    def observe(self):\n",
        "        return {}\n",
        "\n",
        "    def n_actions(self):\n",
        "        return self.action_space.n\n",
        "\n",
        "    def next_state(self, action):\n",
        "        self.state['length'] += 1\n",
        "        self.state['last_action'] = action\n",
        "    \n",
        "    def get_info(self):\n",
        "        return {} \n",
        "\n",
        "    def update_selected(self, action, agent_id):\n",
        "        if agent_id == -1:\n",
        "            return\n",
        "        self.agents_last_choice[agent_id] = action\n",
        "\n",
        "    def step(self, action, agent_id):\n",
        "        reward = self.calculate_reward(action)\n",
        "        observation = self.observe()\n",
        "        info = self.get_info()\n",
        "        self.next_state(action)\n",
        "        done = self.terminated()\n",
        "        self.update_selected(action, agent_id) #agent_id == -1 ==> do nothing\n",
        "        return observation, reward, done, info\n",
        "\n",
        "    def reset(self):\n",
        "        self.state['length'] = 0\n",
        "        self.state['last_action'] = None\n",
        "\n",
        "    def render(self, mode='human'):\n",
        "        print('{}:\\taction={}'.format(self.state['length'], self.state['last_action']))\n",
        "\n",
        "    def close(self):\n",
        "        return"
      ]
    },
    {
      "cell_type": "code",
      "execution_count": 8,
      "metadata": {
        "id": "qAQ_lcEVUjfk"
      },
      "outputs": [],
      "source": [
        "class SocialMutliArmedBanditEnvironment():\n",
        "    def __init__(self, rewards, episode_max_length, id = None, container = None):\n",
        "        \"\"\"\n",
        "        rewards: a list of reward object, length = number of arms\n",
        "        episode_max_length: maximum length of each episode \n",
        "        id: id of environment\n",
        "        container: \n",
        "        \"\"\"\n",
        "        self.observation_space = gym.spaces.Discrete(1)\n",
        "        self.action_space = gym.spaces.Discrete(len(rewards))\n",
        "        \n",
        "        if container != None:\n",
        "            container.register_environment(self)\n",
        "\n",
        "        self.id = id\n",
        "        self.arms_rewards = rewards\n",
        "        self.agents_last_choice = {}\n",
        "        self.episode_max_length = episode_max_length\n",
        "        # self.optimal_action = np.argmax(R_mean)\n",
        "\n",
        "        self.state = {\n",
        "            'length': 0,\n",
        "            'last_action': None\n",
        "        }\n",
        "    \n",
        "    def add_agent(self, agent_id):\n",
        "        self.agents_last_choice[agent_id] = -1 \n",
        "     \n",
        "    def calculate_reward(self, action):\n",
        "        return self.arms_rewards[action].get_reward(self.state['length'])\n",
        "    \n",
        "    def update_selected(self, action, agent_id):\n",
        "        if agent_id == -1:\n",
        "            return\n",
        "        self.agents_last_choice[agent_id] = action\n",
        "        \n",
        "    \n",
        "    def terminated(self):\n",
        "        return self.state['length'] >= self.episode_max_length\n",
        "\n",
        "    def observe(self):\n",
        "        return {}\n",
        "    \n",
        "    def n_actions(self):\n",
        "        return self.action_space.n\n",
        "\n",
        "    def next_state(self, action):\n",
        "        self.state['length'] += 1\n",
        "        self.state['last_action'] = action\n",
        "    \n",
        "    def get_info(self):\n",
        "        return {} \n",
        "\n",
        "    def step(self, action, agent_id):\n",
        "        reward = self.calculate_reward(action)\n",
        "        observation = self.observe()\n",
        "        info = self.get_info()\n",
        "        self.next_state(action)\n",
        "        done = self.terminated()\n",
        "        self.update_selected(action, agent_id) #agent_id == -1 ==> do nothing\n",
        "        return observation, reward, done, info\n",
        "    \n",
        "    def config(self):\n",
        "        self.agents_last_choice = []\n",
        "    \n",
        "    def reset(self):\n",
        "        self.state['length'] = 0\n",
        "        self.state['last_action'] = None\n",
        "\n",
        "    def render(self, mode='human'):\n",
        "        print('{}:\\taction={}'.format(self.state['length'], self.state['last_action']))\n",
        "\n",
        "    def close(self):\n",
        "        return"
      ]
    },
    {
      "cell_type": "markdown",
      "metadata": {
        "id": "7vTZafAEE-8H"
      },
      "source": [
        "## Agents "
      ]
    },
    {
      "cell_type": "code",
      "execution_count": 9,
      "metadata": {
        "id": "5JLeNiNNDweL"
      },
      "outputs": [],
      "source": [
        "class AgentBase:\n",
        "    def __init__(self, environment = None, id = None, alpha = 1,beta = 1,gamma = 1,\n",
        "                 lr = 0.1, lr_decay = 1):\n",
        "        \"\"\"\n",
        "        environment: the env object that agent interact with it\n",
        "        id: an int, the number of agent, used as a key in agents dict in environment\n",
        "        alpha, beta, gamma: float numbers are used for measuring utility based on prospect theory\n",
        "        lr = a float number, determine the rate of learning\n",
        "        lr_decay = a float number, determine the decay of learning rate \n",
        "        \"\"\"\n",
        "        self.environment = environment\n",
        "        self.id = id\n",
        "        self.alpha = alpha\n",
        "        self.beta = beta \n",
        "        self.gamma = gamma\n",
        "        self.lr = lr\n",
        "        self.lr_decay = lr_decay\n",
        "        if id is not None:\n",
        "            self.environment.add_agent(id)\n",
        "\n",
        "    def set_environment(self, env):\n",
        "        self.environment = env\n",
        "\n",
        "    @abstractmethod\n",
        "    def take_action(self) -> (object, float, bool, object):\n",
        "        # in this method, you MUST call the `step` method of \n",
        "        # the environment and observe the results and return them like:\n",
        "        # return observation, reward, done, info\n",
        "        pass\n",
        "    \n",
        "    def utility_function(self,reward):\n",
        "        if reward >= 0 :\n",
        "            u = reward ** self.alpha\n",
        "        else:\n",
        "            u =  -1 * self.gamma * ((-reward)** self.beta)\n",
        "        return u "
      ]
    },
    {
      "cell_type": "markdown",
      "source": [
        "### Learner Agents"
      ],
      "metadata": {
        "id": "syUMOjD4LRpi"
      }
    },
    {
      "cell_type": "code",
      "execution_count": 10,
      "metadata": {
        "id": "7HYwd6-7DweL"
      },
      "outputs": [],
      "source": [
        "class EpsilonGreedyAgent(AgentBase): \n",
        "    def __init__(self, environment = None, id = None, alpha = 1, beta = 1, gamma = 1, lr = None,\n",
        "                 lr_decay = 1, epsilon = 0.1, epsilon_decay = 1,  optimistic = False):\n",
        "        \"\"\"\n",
        "        environment: the env object that agent interact with it\n",
        "        id: String or float or int, the name or the number of agent, used as a key in agents dict in environment\n",
        "        alpha, beta, gamma: float numbers are used for measuring utility based on prospect theory\n",
        "        lr = a float number, determine the rate of learning\n",
        "        lr_decay = a float number, determine the decay of learning rate \n",
        "        epsilon = a float number, determine degree of exploration\n",
        "        epsilon_decay = a float number, determine degree of decaying epsilon\n",
        "        optimistic = a bool, determine using optimistic initialization\n",
        "        \"\"\"\n",
        "        #Add Temperature\n",
        "        super(EpsilonGreedyAgent, self).__init__(environment, id, alpha, beta, gamma, lr, lr_decay)\n",
        "        self.epsilon = epsilon\n",
        "        self.epsilon_decay = epsilon_decay\n",
        "        if environment is not None:\n",
        "            self.n_actions = self.environment.n_actions()\n",
        "            \n",
        "            self.Q = np.zeros((self.n_actions,1))     #action value fuction\n",
        "            self.N = np.zeros((self.n_actions,1))     #number of doing an action \n",
        "\n",
        "    def get_number_actions(self):\n",
        "        return self.N\n",
        "    \n",
        "    def set_environment(self, env):\n",
        "        self.environment = env\n",
        "        self.n_actions = self.environment.n_actions()\n",
        "\n",
        "        self.Q = np.zeros((self.n_actions,1))     #action value fuction\n",
        "        self.N = np.zeros((self.n_actions,1))     #number of doing an action \n",
        "\n",
        "    def update(self, action, utility):\n",
        "        self.epsilon = self.epsilon * self.epsilon_decay\n",
        "        self.N[action] += 1\n",
        "        if self.lr is not None:\n",
        "            self.Q[action] += (utility - self.Q[action]) * self.lr\n",
        "            self.lr = self.lr * self.lr_decay \n",
        "        else:\n",
        "            self.Q[action] += (utility - self.Q[action])/self.N[action] \n",
        "\n",
        "    def select_action(self):\n",
        "        rand = np.random.rand()\n",
        "        if rand < self.epsilon:\n",
        "            action = np.random.choice(self.n_actions)\n",
        "        else:\n",
        "            action = np.argmax(self.Q)\n",
        "        \n",
        "        return action\n",
        "\n",
        "    def take_action(self) -> (object, float, bool, object):\n",
        "        if self.environment is None:\n",
        "            raise(\"Env is not defined\",)\n",
        "        action = self.select_action()\n",
        "        obs, r, d, i = self.environment.step(action, self.id)\n",
        "        u = self.utility_function(r)\n",
        "        self.update(action,u)\n",
        "        \n",
        "        return r, action , u\n",
        "\n",
        "    def get_Q(self):\n",
        "        return self.Q"
      ]
    },
    {
      "cell_type": "code",
      "execution_count": 11,
      "metadata": {
        "id": "VZYTv8J3VAMO"
      },
      "outputs": [],
      "source": [
        "class UCBAgent(AgentBase):\n",
        "    def __init__(self, c, environment = None, id = None, alpha = 1, beta = 1, gamma = 1,\n",
        "                 lr = None, lr_decay = 1,):\n",
        "        \"\"\"\n",
        "        c: a float, determine the degree of exploration \n",
        "        environment: the env object that agent interact with it\n",
        "        id: String or float or int, the name or the number of agent, used as a key in agents dict in environment\n",
        "        alpha, beta, gamma: float numbers are used for measuring utility based on prospect theory\n",
        "        lr = a float number, determine the rate of learning\n",
        "        lr_decay = a float number, determine the decay of learning rate \n",
        "        \"\"\"\n",
        "        super(UCBAgent, self).__init__(environment, id, alpha, beta, gamma, lr, lr_decay)\n",
        "        self.c = c\n",
        "        self.trial = 0                                          #number of total trials \n",
        "\n",
        "        if environment is not None:\n",
        "            self.n_actions = self.environment.n_actions()\n",
        "            self.Q = np.zeros((self.n_actions,1))                 #action value function(expected reward) for each arm\n",
        "            self.N = np.zeros((self.n_actions,1))                 #number of doing each arm\n",
        "            self.UCB = np.inf * np.ones((self.n_actions,1))      #Upper confidence bound for each arm\n",
        "            \n",
        "    def select_action(self):        \n",
        "        action = np.random.choice(np.flatnonzero(self.UCB == self.UCB.max()))\n",
        "        return action \n",
        "\n",
        "    def set_environment(self, env):\n",
        "        self.environemnt = env\n",
        "        self.n_actions = self.environment.n_actions()\n",
        "        self.Q = np.zeros((self.n_actions,1))                 #action value function(expected reward) for each arm\n",
        "        self.N = np.zeros((self.n_actions,1))                 #number of doing each arm\n",
        "        self.UCB = np.inf * np.ones((self.n_actions,1))      #Upper confidence bound for each arm\n",
        "\n",
        "    def update(self, action, u):        \n",
        "        # update action values\n",
        "        self.trial += 1\n",
        "        self.N[action] = self.N[action] + 1\n",
        "        if self.lr is not None:\n",
        "            self.Q[action] += self.lr*(u-self.Q[action])\n",
        "            self.lr = self.lr * self.lr_decay\n",
        "        else:\n",
        "            self.Q[action] += (u-self.Q[action]) / self.N[action]\n",
        "\n",
        "        self.UCB = self.Q + self.c * np.sqrt(np.log(self.trial)/(self.N + 1e-9))\n",
        "\n",
        "        \n",
        "    def take_action(self) -> (object, float, bool, object):\n",
        "        if self.environment is None:\n",
        "            raise(\"Env is not defined\")\n",
        "        action = self.select_action()\n",
        "        obs, r, d, i = self.environment.step(action, self.id)\n",
        "        u = self.utility_function(r)\n",
        "        self.update(action, u)\n",
        "        return r, action, u"
      ]
    },
    {
      "cell_type": "code",
      "execution_count": 12,
      "metadata": {
        "id": "38CnYMSoByxk"
      },
      "outputs": [],
      "source": [
        "class GradientBanditAgent(AgentBase): \n",
        "    def __init__(self, environment = None, id = None, alpha = 1, beta = 1, gamma = 1,\n",
        "                 lr = 0.1, lr_decay = 1, optimistic = False, Baseline_lr = None):\n",
        "        \"\"\"\n",
        "        environment: the env object that agent interact with it\n",
        "        id: String or float or int, the name or the number of agent, used as a key in agents dict in environment\n",
        "        alpha, beta, gamma: float numbers are used for measuring utility based on prospect theory\n",
        "        lr = a float number, determine the rate of learning\n",
        "        lr_decay = a float number, determine the decay of learning rate \n",
        "        optimistic = a bool, determine using optimistic initialization\n",
        "        baseline_lr: a float number, determine the rate of updating the baseline\n",
        "        \"\"\"\n",
        "        super(GradientBanditAgent, self).__init__(environment, id, alpha, beta, gamma, lr, lr_decay)\n",
        "\n",
        "        self.R_lr = Baseline_lr\n",
        "        self.avg_rew = 0   \n",
        "        self.N = 0      \n",
        "        if environment is not None:\n",
        "            self.n_actions = self.environment.n_actions()\n",
        "            self.H = np.zeros((self.n_actions))\n",
        "            self.P = (1/self.n_actions)*np.ones((self.n_actions))\n",
        "    \n",
        "    def set_environment(self, env):\n",
        "        self.environment = env\n",
        "        self.n_actions = self.environment.n_actions()\n",
        "        self.H = np.zeros((self.n_actions))\n",
        "        self.P = (1/self.n_actions)*np.ones((self.n_actions))       \n",
        "\n",
        "    def update(self, action, utility):\n",
        "        self.lr = self.lr * self.lr_decay\n",
        "        self.N += 1\n",
        "        if self.R_lr is not None:\n",
        "            self.avg_rew += (utility - self.avg_rew) * self.R_lr\n",
        "        else:\n",
        "            self.avg_rew += (utility - self.avg_rew)/self.N\n",
        "\n",
        "        for i in range(len(self.H)):\n",
        "            if i == action :\n",
        "                self.H[i] += self.lr *(utility - self.avg_rew)*(1-self.P[i])\n",
        "\n",
        "            else:\n",
        "                self.H[i] -=  self.lr *(utility - self.avg_rew)*(self.P[i])\n",
        "\n",
        "        for i in range(len(self.P)):\n",
        "            self.P[i] = np.exp(self.H[i]) / np.sum(np.exp(self.H))\n",
        "\n",
        "    def get_all(self):\n",
        "        return self.H,self.P\n",
        "\n",
        "    def select_action(self):\n",
        "        action = int(np.random.choice(list(range(self.n_actions)), size=1,p=self.P))       \n",
        "        return action \n",
        "\n",
        "    def take_action(self) -> (object, float, bool, object):\n",
        "        if self.environment is None:\n",
        "            raise(\"Env is not defined\",)\n",
        "        action = self.select_action()\n",
        "        obs, r, d, i = self.environment.step(action, self.id)\n",
        "        #(obs, r, d, i)\n",
        "        u = self.utility_function(r)\n",
        "        self.update(action,u)\n",
        "        #self.environment.render()\n",
        "        return r, action , u\n"
      ]
    },
    {
      "cell_type": "code",
      "execution_count": 13,
      "metadata": {
        "id": "1HNl0mID_YrT"
      },
      "outputs": [],
      "source": [
        "class ActorCriticAgent(AgentBase): \n",
        "    def __init__(self, environment = None, id = None, alpha = 1, beta = 1, gamma = 1,\n",
        "                 lr = 0.1, lr_decay = 1, optimistic = False):\n",
        "        \"\"\"\n",
        "        environment: the env object that agent interact with it\n",
        "        id: String or float or int, the name or the number of agent, used as a key in agents dict in environment\n",
        "        alpha, beta, gamma: float numbers are used for measuring utility based on prospect theory\n",
        "        lr = a float number, determine the rate of learning\n",
        "        lr_decay = a float number, determine the decay of learning rate \n",
        "        optimistic = a bool, determine using optimistic initialization\n",
        "        \"\"\"\n",
        "        super(ActorCriticAgent, self).__init__(environment, id, alpha, beta, gamma, lr, lr_decay)\n",
        "        self.N = 0      \n",
        "        if environment is not None:\n",
        "            self.n_actions = self.environment.n_actions()\n",
        "            self.Q = np.zeros((self.n_actions))     #action value fuction\n",
        "            self.H = np.zeros((self.n_actions))\n",
        "            self.P = (1/self.n_actions)*np.ones((self.n_actions))\n",
        "    \n",
        "    def set_environment(self, env):\n",
        "        self.environment = env\n",
        "        self.n_actions = self.environment.n_actions()\n",
        "        self.Q = np.zeros((self.n_actions))     #action value fuction\n",
        "        self.H = np.zeros((self.n_actions))\n",
        "        self.P = (1/self.n_actions)*np.ones((self.n_actions))        \n",
        "\n",
        "    def update(self,action,utility):\n",
        "        self.lr = self.lr * self.lr_decay\n",
        "        self.N += 1\n",
        "        if self.lr is not None:\n",
        "            self.Q[action] += (utility - self.Q[action]) * self.lr\n",
        "            self.lr = self.lr * self.lr_decay \n",
        "        else:\n",
        "            self.Q[action] += (utility - self.Q[action])/self.N[action] \n",
        "\n",
        "        for i in range(len(self.H)):\n",
        "            if i == action :\n",
        "                self.H[i] += self.lr *(utility - self.Q[i])*(1-self.P[i])\n",
        "\n",
        "            else:\n",
        "                self.H[i] -=  self.lr *(utility - self.Q[i])*(self.P[i])\n",
        "\n",
        "        for i in range(len(self.P)):\n",
        "            self.P[i] = np.exp(self.H[i]) / np.sum(np.exp(self.H))\n",
        "\n",
        "    def get_all(self):\n",
        "        return self.H,self.P\n",
        "\n",
        "    def select_action(self):\n",
        "        action = int(np.random.choice(list(range(self.n_actions)), size=1,p=self.P))  \n",
        "        return action\n",
        "\n",
        "    def take_action(self) -> (object, float, bool, object):\n",
        "        if self.environment is None:\n",
        "            raise(\"environment is not defined\")\n",
        "        action = self.select_action()\n",
        "        obs, r, d, i = self.environment.step(action, self.id)\n",
        "        #print(obs, r, d, i)\n",
        "        u = self.utility_function(r)\n",
        "        self.update(action,u)\n",
        "        #self.environment.render()\n",
        "        return r, action , u"
      ]
    },
    {
      "cell_type": "code",
      "execution_count": 14,
      "metadata": {
        "id": "ej-BOALdDr4Y"
      },
      "outputs": [],
      "source": [
        "class ThompsonSamplingAgent(AgentBase):\n",
        "    def __init__(self, environment = None, id = None, alpha = 1, beta = 1, gamma = 1,\n",
        "                 lr = 0.1, lr_decay = 1):\n",
        "        \"\"\"\n",
        "        environment: the env object that agent interact with it\n",
        "        id: String or float or int, the name or the number of agent, used as a key in agents dict in environment\n",
        "        alpha, beta, gamma: float numbers are used for measuring utility based on prospect theory\n",
        "        lr = a float number, determine the rate of learning\n",
        "        lr_decay = a float number, determine the decay of learning rate \n",
        "        \"\"\"\n",
        "        super(ThompsonSamplingAgent, self).__init__(environment, id, alpha, beta, gamma, lr, lr_decay)\n",
        "        \n",
        "        if self.environment is not None:\n",
        "            self.n_actions = self.environment.n_actions()\n",
        "            self.stds = list(1000000000 * np.ones((self.n_actions,1)))  #stds of estimated gaussian distributions\n",
        "            self.means = list( np.zeros((self.n_actions,1)))            #means of estimated gaussian distributions\n",
        "\n",
        "    def set_environment(self, env):\n",
        "        self.environment = env \n",
        "        self.n_actions = self.environment.n_actions()\n",
        "        self.stds = list(1000000000 * np.ones((self.n_actions,1)))  #stds of estimated gaussian distributions\n",
        "        self.means = list( np.zeros((self.n_actions,1)))            #means of estimated gaussian distributions\n",
        "\n",
        "    def get_samples(self,means,stds):\n",
        "        samples = [np.random.normal(means[i],stds[i]) for i in range(len(means))]\n",
        "        return samples\n",
        "\n",
        "    def update(self, action, reward):\n",
        "        new_std = sqrt( 1 / ((1/self.stds[action]**2) + 1) )\n",
        "        new_mean = (reward + (self.means[action] / self.stds[action] ** 2)) / ((1/self.stds[action]**2) + 1) \n",
        "        self.means[action] = new_mean\n",
        "        self.stds[action] = new_std\n",
        "        return \n",
        "\n",
        "    def select_action(self):\n",
        "        samples = self.get_samples(self.means,self.stds)\n",
        "        action = np.argmax(samples)\n",
        "        return action \n",
        "\n",
        "    def take_action(self):# -> (object, float, bool, object):\n",
        "        if self.environment is None:\n",
        "            raise(\"Env is not defined\",)\n",
        "        action = self.select_action()\n",
        "        obs, r, d, i = self.environment.step(action, self.id)\n",
        "        u = self.utility_function(r)\n",
        "        self.update(action, u)\n",
        "        #print(obs, r, d, i)\n",
        "        #self.environment.render()\n",
        "        return r,action, u"
      ]
    },
    {
      "cell_type": "markdown",
      "metadata": {
        "id": "zTOmpSzeEpZG"
      },
      "source": [
        "### Coded Agents:"
      ]
    },
    {
      "cell_type": "code",
      "source": [
        "class AlwaysBestAgent(AgentBase):\n",
        "    def __init__(self, environment = None, id = None, alpha = 1, beta = 1, gamma = 1):\n",
        "        \"\"\"\n",
        "        environment: the env object that agent interact with it\n",
        "        id: String or float or int, the name or the number of agent, used as a key in agents dict in environment\n",
        "        alpha, beta, gamma: float numbers are used for measuring utility based on prospect theory\n",
        "        \"\"\"\n",
        "        super(AlwaysBestAgent, self).__init__(environment, id, alpha, beta, gamma)\n",
        "        if self.environment is not None:\n",
        "            self.EU = np.array([self.utility_function(r.mean) for r in self.environment.arms_rewards])\n",
        "            self.bestaction = np.random.choice(np.flatnonzero(self.EU == self.EU.max()))\n",
        "        # self.regret = []\n",
        "    \n",
        "    def set_environment(self, env):\n",
        "        self.environment = env \n",
        "        self.EU = np.array([self.utility_function(r.mean) for r in self.environment.arms_rewards])\n",
        "        self.bestaction = np.random.choice(np.flatnonzero(self.EU == self.EU.max())) \n",
        "           \n",
        "    def take_action(self):\n",
        "        if self.environment is None:\n",
        "            raise(\"environment is not defined\")\n",
        "        obs, r, d, i = self.environment.step(self.bestaction, self.id)\n",
        "        #self.r = self.r + self.environment.rewards[np.argmax([r.m for r in self.environment.rewards])].m - self.environment.rewards[indx].mean\n",
        "        #self.regret.append(self.r)\n",
        "        return r, self.bestaction, self.utility_function(r)"
      ],
      "metadata": {
        "id": "C-ATGsJvaT3z"
      },
      "execution_count": 15,
      "outputs": []
    },
    {
      "cell_type": "code",
      "source": [
        "class PercentBestAgent(AgentBase):\n",
        "    def __init__(self, p, environment = None, id = None, alpha = 1, beta = 1, gamma = 1, \n",
        "                 increase = 0, limit = 1, zero_at = False):\n",
        "        \"\"\"\n",
        "        p: a float number between 0 and 1, determine the proportion of selecting the optimal arm\n",
        "        environment: the env object that agent interact with it\n",
        "        id: String or float or int, the name or the number of agent, used as a key in agents dict in environment\n",
        "        alpha, beta, gamma: float numbers are used for measuring utility based on prospect theory\n",
        "        increase: a float number between 0 and 1, determine the amount of selecting the optimal arm\n",
        "        limit: a float number between 0 and 1, determine the upper bound of selecting the optimal arm\n",
        "        zero_at: a bool, determine that we revert the selecting probability to zero after reaching to one \n",
        "        \"\"\"\n",
        "        super(PercentBestAgent, self).__init__(environment, id, alpha, beta, gamma)\n",
        "        self.p = p\n",
        "        self.increase = increase\n",
        "        self.zero_at = zero_at\n",
        "        self.limit = limit\n",
        "        if self.environment is not None:\n",
        "            self.EU = np.array([self.utility_function(r.mean) for r in self.environment.arms_rewards])\n",
        "            self.bestaction = np.random.choice(np.flatnonzero(self.EU == self.EU.max()))\n",
        "            self.n_actions = self.environment.n_actions()\n",
        "            # self.regret = []\n",
        "    \n",
        "    def set_environment(self, env):\n",
        "        self.environment = env\n",
        "        self.EU = np.array([self.utility_function(r.mean) for r in self.environment.arms_rewards])\n",
        "        self.bestaction = np.random.choice(np.flatnonzero(self.EU == self.EU.max()))\n",
        "        self.n_actions = self.environment.n_actions() \n",
        "\n",
        "    def take_action(self):\n",
        "        if self.environment is None:\n",
        "            raise(\"environment is not defined\")\n",
        "        \n",
        "        if np.random.rand() < self.p:\n",
        "            action = self.bestaction\n",
        "        else:\n",
        "            action = np.random.choice(self.n_actions)\n",
        "        \n",
        "        obs, r, d, i = self.environment.step(action, self.id)\n",
        "\n",
        "        #self.r = self.r + self.environment.rewards[np.argmax([r.m for r in self.environment.rewards])].m - self.environment.rewards[indx].m\n",
        "        #self.regret.append(self.r)\n",
        "\n",
        "        self.p = self.p + self.increase\n",
        "        if self.p > self.limit:\n",
        "            self.p = self.limit\n",
        "            self.increase = 0\n",
        "            \n",
        "        if self.zero_at:\n",
        "            if self.p > 1:\n",
        "                self.p = 0\n",
        "                self.increase = 0\n",
        "        return r, action, self.utility_function(r)\n",
        "        "
      ],
      "metadata": {
        "id": "MrQKW3UQaV4r"
      },
      "execution_count": 16,
      "outputs": []
    },
    {
      "cell_type": "code",
      "source": [
        "class SecondBestAgent(AgentBase):\n",
        "    def __init__(self, environment = None, id = None, alpha = 1, beta = 1, gamma = 1):\n",
        "        \"\"\"\n",
        "        environment: the env object that agent interact with it\n",
        "        id: String or float or int, the name or the number of agent, used as a key in agents dict in environment\n",
        "        alpha, beta, gamma: float numbers are used for measuring utility based on prospect theory\n",
        "        \"\"\"\n",
        "        super(SecondBestAgent, self).__init__(environment, id, alpha, beta, gamma)\n",
        "        if self.environment is not None:\n",
        "            self.EU = np.array([self.utility_function(r.mean) for r in self.environment.arms_rewards])\n",
        "            SecondEU = np.array([x for x in self.EU if x < max(self.EU)])\n",
        "            self.secondbestaction = np.random.choice(np.flatnonzero(self.EU == SecondEU.max()))\n",
        "            # self.regret = []\n",
        "\n",
        "    def take_action(self):\n",
        "        obs, r, d, i = self.environment.step(self.secondbestaction, self.id)\n",
        "        return r, self.secondbestaction, self.utility_function(r)\n",
        "    "
      ],
      "metadata": {
        "id": "NUZk27PnaejZ"
      },
      "execution_count": 17,
      "outputs": []
    },
    {
      "cell_type": "code",
      "source": [
        "class AlwaysWorstAgent(AgentBase):\n",
        "    def __init__(self, environment = None, id = None, alpha = 1, beta = 1, gamma = 1):\n",
        "        \"\"\"\n",
        "        environment: the env object that agent interact with it\n",
        "        id: String or float or int, the name or the number of agent, used as a key in agents dict in environment\n",
        "        alpha, beta, gamma: float numbers are used for measuring utility based on prospect theory\n",
        "        \"\"\"\n",
        "        super(AlwaysWorstAgent, self).__init__(environment, id, alpha, beta, gamma)\n",
        "        if self.environment is not None:\n",
        "            self.EU = np.array([self.utility_function(r.mean) for r in self.environment.arms_rewards])\n",
        "            self.worstaction = np.random.choice(np.flatnonzero(self.EU == self.EU.min()))\n",
        "        # self.regret = []\n",
        "\n",
        "    def set_environment(self, env):\n",
        "        self.environment = env    \n",
        "        self.EU = np.array([self.utility_function(r.mean) for r in self.environment.arms_rewards])\n",
        "        self.worstaction = np.random.choice(np.flatnonzero(self.EU == self.EU.min()))\n",
        "            \n",
        "    def take_action(self):\n",
        "        if self.environment is None:\n",
        "            raise(\"environment is not defined\")\n",
        "        obs, r, d, i = self.environment.step(self.worstaction, self.id)\n",
        "        return r, self.worstaction, self.utility_function(r)\n",
        "    "
      ],
      "metadata": {
        "id": "lkAuCmCBah9r"
      },
      "execution_count": 18,
      "outputs": []
    },
    {
      "cell_type": "code",
      "execution_count": 19,
      "metadata": {
        "id": "bp8MRB72EpZH"
      },
      "outputs": [],
      "source": [
        "class AlwaysRandomAgent(AgentBase):\n",
        "    def __init__(self, environment = None, id = None, alpha = 1, beta = 1, gamma = 1):\n",
        "        \"\"\"\n",
        "        environment: the env object that agent interact with it\n",
        "        id: String or float or int, the name or the number of agent, used as a key in agents dict in environment\n",
        "        alpha, beta, gamma: float numbers are used for measuring utility based on prospect theory\n",
        "        \"\"\"\n",
        "        super(AlwaysRandomAgent, self).__init__(environment, id, alpha, beta, gamma)\n",
        "        if self.environment is not None:\n",
        "            self.n_actions = self.environment.n_actions()\n",
        "            # self.regret = []\n",
        "\n",
        "    def set_environment(self, env):\n",
        "        self.environment = env \n",
        "        self.n_actions = self.environment.n_actions()\n",
        "\n",
        "    def take_action(self):\n",
        "        if self.environment is None:\n",
        "            raise(\"environment is not defined\")        \n",
        "        action = np.random.choice(self.n_actions)\n",
        "        obs, r, d, i = self.environment.step(action, self.id)\n",
        "        return r, action, self.utility_function(r)"
      ]
    },
    {
      "cell_type": "markdown",
      "source": [
        "## Test I"
      ],
      "metadata": {
        "id": "4XEXTLpjLleb"
      }
    },
    {
      "cell_type": "markdown",
      "source": [
        "### Test1_Learner Agents "
      ],
      "metadata": {
        "id": "TweQfzExrl2h"
      }
    },
    {
      "cell_type": "code",
      "source": [
        "Multinomial_Rewards = {  '2arm_Hard' : [MultinomialReward_NonStationary([1,0],[0.9,0.1], switch_t = 1000),\n",
        "                                        MultinomialReward_NonStationary([1,0],[0.8,0.2], switch_t = 1000)] ,\n",
        "                       \n",
        "                         '2arm_Med'  : [MultinomialReward_NonStationary([1,0],[0.9,0.1], switch_t = 1000),\n",
        "                                        MultinomialReward_NonStationary([1,0],[0.5,0.5], switch_t = 1000)],\n",
        "                       \n",
        "                         '2arm_Easy' : [MultinomialReward_NonStationary([1,0],[0.9,0.1], switch_t = 1000),\n",
        "                                        MultinomialReward_NonStationary([1,0],[0.1,0.9], switch_t = 1000)]} "
      ],
      "metadata": {
        "id": "PMq15arWraXL"
      },
      "execution_count": 37,
      "outputs": []
    },
    {
      "cell_type": "code",
      "source": [
        "env = SocialMutliArmedBanditEnvironment(Multinomial_Rewards['2arm_Easy'], 10000)"
      ],
      "metadata": {
        "id": "uyTbvX0YrbYn"
      },
      "execution_count": 38,
      "outputs": []
    },
    {
      "cell_type": "code",
      "source": [
        "fig, ax = plt.subplots()\n",
        "ax.plot(range(10000), np.array([0.9] * 1000 + [0.1] * 9000), 'b')\n",
        "ax.plot(range(10000), np.array([0.1] * 1000 + [0.9] * 9000),'r')\n",
        "\n",
        "ax.set_ylabel('True Mean Reward',rotation = 90)\n",
        "ax.set_xlabel('Steps')\n",
        "ax.legend([\"arm 1\", \"arm 2\"])\n",
        "plt.show()"
      ],
      "metadata": {
        "id": "b-DNurXrro9K",
        "colab": {
          "base_uri": "https://localhost:8080/",
          "height": 279
        },
        "outputId": "0e8bd45c-3ea8-473d-807c-872545e0c4ec"
      },
      "execution_count": 39,
      "outputs": [
        {
          "output_type": "display_data",
          "data": {
            "text/plain": [
              "<Figure size 432x288 with 1 Axes>"
            ],
            "image/png": "[encoded data removed]"
          },
          "metadata": {
            "needs_background": "light"
          }
        }
      ]
    },
    {
      "cell_type": "code",
      "source": [
        "env.reset()\n",
        "regret1 = np.zeros((10000,50))\n",
        "perc_opt_act1 = np.zeros((10000,50))\n",
        "average_rewards1 = np.zeros((10000,50))\n",
        "\n",
        "for r in tqdm(range(50)):\n",
        "    sum_rewards = 0\n",
        "    opt_act_count = 0\n",
        "    exp_opt_act = 0.9    \n",
        "    agent1 = EpsilonGreedyAgent(environment = env, epsilon = 0.1, lr = 0.1)\n",
        "    \n",
        "    for t in range(10000):\n",
        "        rew , act, _ = agent1.take_action()\n",
        "\n",
        "        sum_rewards += rew\n",
        "        \n",
        "        if t < 1000:\n",
        "            opt_act_count += int(act == 0)\n",
        "            regret1[t,r] = (t+1)*exp_opt_act - sum_rewards\n",
        "\n",
        "        else :\n",
        "            opt_act_count += int(act == 1)\n",
        "            exp_opt_act = 0.9\n",
        "            regret1[t,r] = 1000 * 0.9 + (t+1 - 1000)*exp_opt_act - sum_rewards\n",
        "\n",
        "        perc_opt_act1[t,r] = opt_act_count / (t+1)\n",
        "        average_rewards1[t,r] = sum_rewards / (t+1)\n",
        "\n",
        "    env.reset()"
      ],
      "metadata": {
        "id": "x6JlebW2rxr1",
        "colab": {
          "base_uri": "https://localhost:8080/"
        },
        "outputId": "b0f9c3e7-e78f-4851-86ad-482ae92bb511"
      },
      "execution_count": 40,
      "outputs": [
        {
          "output_type": "stream",
          "name": "stderr",
          "text": [
            "100%|██████████| 50/50 [00:15<00:00,  3.22it/s]\n"
          ]
        }
      ]
    },
    {
      "cell_type": "code",
      "source": [
        "env.reset()\n",
        "regret2 = np.zeros((10000,50))\n",
        "perc_opt_act2 = np.zeros((10000,50))\n",
        "average_rewards2 = np.zeros((10000,50))\n",
        "\n",
        "for r in tqdm(range(50)):\n",
        "    exp_opt_act = 0.9\n",
        "    sum_rewards = 0\n",
        "    opt_act_count = 0\n",
        "    \n",
        "    agent2 = UCBAgent(environment = env, c =2, lr = 0.1)\n",
        "    # agent2 = UCBBanditAgent('1',env, c = 2, lr = 0.1)\n",
        "    \n",
        "    for t in range(10000):\n",
        "        rew , act, _ = agent2.take_action()\n",
        "        \n",
        "        sum_rewards += rew\n",
        "        \n",
        "        if t < 1000:\n",
        "            opt_act_count += int(act == 0)\n",
        "            regret2[t,r] = (t+1)*exp_opt_act - sum_rewards\n",
        "\n",
        "        else:\n",
        "            opt_act_count += int(act == 1)\n",
        "            exp_opt_act = 0.9\n",
        "            regret2[t,r] = 1000 * 0.9 + (t+1 - 1000)*exp_opt_act - sum_rewards\n",
        "\n",
        "        perc_opt_act2[t,r] = opt_act_count / (t+1)\n",
        "        average_rewards2[t,r] = sum_rewards / (t+1)\n",
        "\n",
        "    env.reset()"
      ],
      "metadata": {
        "id": "5Tt4RIQsr3FT",
        "colab": {
          "base_uri": "https://localhost:8080/"
        },
        "outputId": "da054b54-e549-4281-e013-421229d5e828"
      },
      "execution_count": 41,
      "outputs": [
        {
          "output_type": "stream",
          "name": "stderr",
          "text": [
            "100%|██████████| 50/50 [00:48<00:00,  1.02it/s]\n"
          ]
        }
      ]
    },
    {
      "cell_type": "code",
      "source": [
        "env.reset()\n",
        "regret3 = np.zeros((10000,50))\n",
        "perc_opt_act3 = np.zeros((10000,50))\n",
        "average_rewards3 = np.zeros((10000,50))\n",
        "\n",
        "for r in tqdm(range(50)):\n",
        "    sum_rewards = 0\n",
        "    opt_act_count = 0\n",
        "    exp_opt_act = 0.9\n",
        "\n",
        "    agent3 = ThompsonSamplingAgent(environment = env)\n",
        "    \n",
        "    for t in range(10000):\n",
        "        rew , act, _ = agent3.take_action()\n",
        "        \n",
        "        sum_rewards += rew\n",
        "        \n",
        "        if t < 1000:\n",
        "            opt_act_count += int(act == 0)\n",
        "            regret3[t,r] = (t+1)*exp_opt_act - sum_rewards\n",
        "\n",
        "        else :\n",
        "            opt_act_count += int(act == 1)\n",
        "            exp_opt_act = 0.9\n",
        "            regret3[t,r] = 1000 * 0.9 + (t+1 - 1000)*exp_opt_act - sum_rewards\n",
        "\n",
        "        perc_opt_act3[t,r] = opt_act_count / (t+1)\n",
        "        average_rewards3[t,r] = sum_rewards / (t+1)\n",
        "\n",
        "    env.reset()"
      ],
      "metadata": {
        "id": "JFw-LTu9OBfj",
        "colab": {
          "base_uri": "https://localhost:8080/"
        },
        "outputId": "fc38c521-139d-485e-a395-8a3c9fb66083"
      },
      "execution_count": 42,
      "outputs": [
        {
          "output_type": "stream",
          "name": "stderr",
          "text": [
            "100%|██████████| 50/50 [00:40<00:00,  1.25it/s]\n"
          ]
        }
      ]
    },
    {
      "cell_type": "code",
      "source": [
        "env.reset()\n",
        "regret4 = np.zeros((10000,50))\n",
        "perc_opt_act4 = np.zeros((10000,50))\n",
        "average_rewards4 = np.zeros((10000,50))\n",
        "\n",
        "for r in tqdm(range(50)):\n",
        "    sum_rewards = 0\n",
        "    opt_act_count = 0\n",
        "    exp_opt_act = 0.9\n",
        "    \n",
        "    agent4 = GradientBanditAgent(environment = env)\n",
        "    \n",
        "    for t in range(10000):\n",
        "        rew , act, _ = agent4.take_action()\n",
        "        sum_rewards += rew\n",
        "        \n",
        "        if t < 1000:\n",
        "            opt_act_count += int(act == 0)\n",
        "            regret4[t,r] = (t+1)*exp_opt_act - sum_rewards\n",
        "        \n",
        "        else :\n",
        "            opt_act_count += int(act == 1)\n",
        "            exp_opt_act = 0.9\n",
        "            regret4[t,r] = 1000 * 0.9 + (t+1 - 1000)*exp_opt_act - sum_rewards\n",
        "\n",
        "        perc_opt_act4[t,r] = opt_act_count / (t+1)\n",
        "        average_rewards4[t,r] = sum_rewards / (t+1)\n",
        "\n",
        "    env.reset()"
      ],
      "metadata": {
        "id": "N7b2NhoAONKy",
        "colab": {
          "base_uri": "https://localhost:8080/"
        },
        "outputId": "b8bf94a4-e7e3-4798-ff92-bbe7410c70a4"
      },
      "execution_count": 43,
      "outputs": [
        {
          "output_type": "stream",
          "name": "stderr",
          "text": [
            "100%|██████████| 50/50 [00:45<00:00,  1.10it/s]\n"
          ]
        }
      ]
    },
    {
      "cell_type": "code",
      "source": [
        "\n",
        "env.reset()\n",
        "regret5 = np.zeros((10000,50))\n",
        "perc_opt_act5 = np.zeros((10000,50))\n",
        "average_rewards5 = np.zeros((10000,50))\n",
        "\n",
        "for r in tqdm(range(50)):\n",
        "    exp_opt_act = 0.9\n",
        "    sum_rewards = 0\n",
        "    opt_act_count = 0\n",
        "\n",
        "    agent5 = ActorCriticAgent(environment = env, lr = 0.1)\n",
        "\n",
        "    # agent4 = gradientAgent('1',env, alpha = 0.1, Baseline_lr = 0.01)\n",
        "    for t in range(10000):\n",
        "        rew , act, _ = agent5.take_action()\n",
        "        \n",
        "        sum_rewards += rew\n",
        "        \n",
        "        if t < 1000:\n",
        "            opt_act_count += int(act == 0)\n",
        "            regret5[t,r] = (t+1)*exp_opt_act - sum_rewards\n",
        "        \n",
        "        else :\n",
        "            opt_act_count += int(act == 1)\n",
        "            exp_opt_act = 0.9\n",
        "            regret5[t,r] = 1000 * 0.9 + (t+1 - 1000)*exp_opt_act - sum_rewards\n",
        "\n",
        "        perc_opt_act5[t,r] = opt_act_count / (t+1)\n",
        "        average_rewards5[t,r] = sum_rewards / (t+1)\n",
        "\n",
        "    env.reset()"
      ],
      "metadata": {
        "id": "Dr59PDr1PRZP",
        "colab": {
          "base_uri": "https://localhost:8080/"
        },
        "outputId": "ae2b4d48-9c34-4b43-fbda-8c73a1bcd9ca"
      },
      "execution_count": 44,
      "outputs": [
        {
          "output_type": "stream",
          "name": "stderr",
          "text": [
            "100%|██████████| 50/50 [00:44<00:00,  1.12it/s]\n"
          ]
        }
      ]
    },
    {
      "cell_type": "code",
      "source": [
        "som1 = np.std(perc_opt_act1,axis = 1) / np.sqrt(perc_opt_act1.shape[1])\n",
        "mean1 = np.mean(perc_opt_act1,axis = 1)\n",
        "\n",
        "som2 = np.std(perc_opt_act2,axis = 1) / np.sqrt(perc_opt_act2.shape[1])\n",
        "mean2 = np.mean(perc_opt_act2,axis = 1)\n",
        "\n",
        "som3 = np.std(perc_opt_act3,axis = 1) / np.sqrt(perc_opt_act3.shape[1])\n",
        "mean3 = np.mean(perc_opt_act3,axis = 1)\n",
        "\n",
        "som4 = np.std(perc_opt_act4,axis = 1) / np.sqrt(perc_opt_act4.shape[1])\n",
        "mean4 = np.mean(perc_opt_act4,axis = 1)\n",
        "\n",
        "som5 = np.std(perc_opt_act5,axis = 1) / np.sqrt(perc_opt_act5.shape[1])\n",
        "mean5 = np.mean(perc_opt_act5,axis = 1)\n",
        "\n",
        "fig, ax = plt.subplots()\n",
        "ax.plot(range(10000), mean1, 'b')\n",
        "ax.fill_between(range(10000), (mean1-som1), (mean1+som1), color='b', alpha=.1)\n",
        "ax.plot(range(10000), mean2,'r')\n",
        "ax.fill_between(range(10000), (mean2-som2), (mean2+som2), color='r', alpha=.1)\n",
        "ax.plot(range(10000), mean3, 'g')\n",
        "ax.fill_between(range(10000), (mean3-som3), (mean3+som3), color='g', alpha=.1)\n",
        "ax.plot(range(10000), mean4, 'black')\n",
        "ax.fill_between(range(10000), (mean4-som4), (mean4+som4), color='black', alpha=.1)\n",
        "ax.plot(range(10000), mean5, 'gray')\n",
        "ax.fill_between(range(10000), (mean5-som5), (mean5+som5), color='gray', alpha=.1)\n",
        "ax.set_ylabel('% Optimal action',rotation = 90)\n",
        "ax.set_xlabel('Steps')\n",
        "ax.legend([\"Eps-greedy\", \"UCB\",\"Thompson\", \"Policy-gradient\", \"Actor-Critic\" ])\n",
        "plt.show()"
      ],
      "metadata": {
        "id": "BmFvZBbGPV85",
        "colab": {
          "base_uri": "https://localhost:8080/",
          "height": 279
        },
        "outputId": "b56e6bf3-935f-4395-cb25-216a21b1e6e5"
      },
      "execution_count": 45,
      "outputs": [
        {
          "output_type": "display_data",
          "data": {
            "text/plain": [
              "<Figure size 432x288 with 1 Axes>"
            ],
            "image/png": "[encoded data removed]"
          },
          "metadata": {
            "needs_background": "light"
          }
        }
      ]
    },
    {
      "cell_type": "markdown",
      "source": [
        "### Test2_Coded Agents"
      ],
      "metadata": {
        "id": "6BJbW-zkPpy4"
      }
    },
    {
      "cell_type": "code",
      "source": [
        "Multinomial_Rewards = {  '2arm_Hard' : [MultinomialReward_NonStationary([1,0],[0.9,0.1], switch_t = 9000),\n",
        "                                        MultinomialReward_NonStationary([1,0],[0.8,0.2], switch_t = 9000)] ,\n",
        "                       \n",
        "                         '2arm_Med'  : [MultinomialReward_NonStationary([1,0],[0.9,0.1], switch_t = 9000),\n",
        "                                        MultinomialReward_NonStationary([1,0],[0.5,0.5], switch_t = 9000)],\n",
        "                       \n",
        "                         '2arm_Easy' : [MultinomialReward_NonStationary([1,0],[0.9,0.1], switch_t = 9000),\n",
        "                                        MultinomialReward_NonStationary([1,0],[0.1,0.9], switch_t = 9000)]} "
      ],
      "metadata": {
        "id": "q51SZpupPySf"
      },
      "execution_count": 51,
      "outputs": []
    },
    {
      "cell_type": "code",
      "source": [
        "env = SocialMutliArmedBanditEnvironment(Multinomial_Rewards['2arm_Easy'], 10000)"
      ],
      "metadata": {
        "id": "2nEDZRmJPySg"
      },
      "execution_count": 52,
      "outputs": []
    },
    {
      "cell_type": "code",
      "source": [
        "fig, ax = plt.subplots()\n",
        "ax.plot(range(10000), np.array([0.9] * 9000 + [0.1] * 1000), 'b')\n",
        "ax.plot(range(10000), np.array([0.1] * 9000 + [0.9] * 1000),'r')\n",
        "\n",
        "ax.set_ylabel('True Mean Reward',rotation = 90)\n",
        "ax.set_xlabel('Steps')\n",
        "ax.legend([\"arm 1\", \"arm 2\"])\n",
        "plt.show()"
      ],
      "metadata": {
        "id": "nLLVx-6XPySh",
        "colab": {
          "base_uri": "https://localhost:8080/",
          "height": 279
        },
        "outputId": "506dde33-fe63-4d8f-8c51-ad36a6359798"
      },
      "execution_count": 53,
      "outputs": [
        {
          "output_type": "display_data",
          "data": {
            "text/plain": [
              "<Figure size 432x288 with 1 Axes>"
            ],
            "image/png": "[encoded data removed]"
          },
          "metadata": {
            "needs_background": "light"
          }
        }
      ]
    },
    {
      "cell_type": "code",
      "source": [
        "env.reset()\n",
        "regret1 = np.zeros((10000,50))\n",
        "perc_opt_act1 = np.zeros((10000,50))\n",
        "average_rewards1 = np.zeros((10000,50))\n",
        "\n",
        "for r in tqdm(range(50)):\n",
        "    sum_rewards = 0\n",
        "    opt_act_count = 0\n",
        "    exp_opt_act = 0.9    \n",
        "    agent1 = AlwaysBestAgent(environment = env)\n",
        "    \n",
        "    for t in range(10000):\n",
        "        rew , act, _ = agent1.take_action()\n",
        "\n",
        "        sum_rewards += rew\n",
        "        \n",
        "        if t < 9000:\n",
        "            opt_act_count += int(act == 0)\n",
        "            regret1[t,r] = (t+1)*exp_opt_act - sum_rewards\n",
        "\n",
        "        else :\n",
        "            opt_act_count += int(act == 1)\n",
        "            exp_opt_act = 0.9\n",
        "            regret1[t,r] = 9000 * 0.9 + (t+1 - 9000)*exp_opt_act - sum_rewards\n",
        "\n",
        "        perc_opt_act1[t,r] = opt_act_count / (t+1)\n",
        "        average_rewards1[t,r] = sum_rewards / (t+1)\n",
        "\n",
        "    env.reset()"
      ],
      "metadata": {
        "id": "2hhYmOSlPySi",
        "colab": {
          "base_uri": "https://localhost:8080/"
        },
        "outputId": "30fb1ec9-3c64-46e8-8eda-d32846ede801"
      },
      "execution_count": 54,
      "outputs": [
        {
          "output_type": "stream",
          "name": "stderr",
          "text": [
            "100%|██████████| 50/50 [00:02<00:00, 17.25it/s]\n"
          ]
        }
      ]
    },
    {
      "cell_type": "code",
      "source": [
        "env.reset()\n",
        "regret2 = np.zeros((10000,50))\n",
        "perc_opt_act2 = np.zeros((10000,50))\n",
        "average_rewards2 = np.zeros((10000,50))\n",
        "\n",
        "for r in tqdm(range(50)):\n",
        "    exp_opt_act = 0.9\n",
        "    sum_rewards = 0\n",
        "    opt_act_count = 0\n",
        "    \n",
        "    agent2 = PercentBestAgent(p = 0.8, environment = env)\n",
        "    # agent2 = UCBBanditAgent('1',env, c = 2, lr = 0.1)\n",
        "    \n",
        "    for t in range(10000):\n",
        "        rew , act, _ = agent2.take_action()\n",
        "        \n",
        "        sum_rewards += rew\n",
        "        \n",
        "        if t < 9000:\n",
        "            opt_act_count += int(act == 0)\n",
        "            regret2[t,r] = (t+1)*exp_opt_act - sum_rewards\n",
        "\n",
        "        else:\n",
        "            opt_act_count += int(act == 1)\n",
        "            exp_opt_act = 0.9\n",
        "            regret2[t,r] = 9000 * 0.9 + (t+1 - 9000)*exp_opt_act - sum_rewards\n",
        "\n",
        "        perc_opt_act2[t,r] = opt_act_count / (t+1)\n",
        "        average_rewards2[t,r] = sum_rewards / (t+1)\n",
        "\n",
        "    env.reset()"
      ],
      "metadata": {
        "id": "XeyjShsvPySi",
        "colab": {
          "base_uri": "https://localhost:8080/"
        },
        "outputId": "0c4029a8-6c36-4ed8-d3d0-480ac22a1d60"
      },
      "execution_count": 55,
      "outputs": [
        {
          "output_type": "stream",
          "name": "stderr",
          "text": [
            "100%|██████████| 50/50 [00:07<00:00,  6.93it/s]\n"
          ]
        }
      ]
    },
    {
      "cell_type": "code",
      "source": [
        "env.reset()\n",
        "regret3 = np.zeros((10000,50))\n",
        "perc_opt_act3 = np.zeros((10000,50))\n",
        "average_rewards3 = np.zeros((10000,50))\n",
        "\n",
        "for r in tqdm(range(50)):\n",
        "    sum_rewards = 0\n",
        "    opt_act_count = 0\n",
        "    exp_opt_act = 0.9\n",
        "\n",
        "    agent3 = SecondBestAgent(environment = env)\n",
        "    \n",
        "    for t in range(10000):\n",
        "        rew , act, _ = agent3.take_action()\n",
        "        \n",
        "        sum_rewards += rew\n",
        "        \n",
        "        if t < 9000:\n",
        "            opt_act_count += int(act == 0)\n",
        "            regret3[t,r] = (t+1)*exp_opt_act - sum_rewards\n",
        "\n",
        "        else :\n",
        "            opt_act_count += int(act == 1)\n",
        "            exp_opt_act = 0.9\n",
        "            regret3[t,r] = 9000 * 0.9 + (t+1 - 9000)*exp_opt_act - sum_rewards\n",
        "\n",
        "        perc_opt_act3[t,r] = opt_act_count / (t+1)\n",
        "        average_rewards3[t,r] = sum_rewards / (t+1)\n",
        "\n",
        "    env.reset()"
      ],
      "metadata": {
        "id": "4ABXTesHPySj",
        "colab": {
          "base_uri": "https://localhost:8080/"
        },
        "outputId": "7e2ae77f-5a0a-48ac-9f84-9965fb0d2d01"
      },
      "execution_count": 56,
      "outputs": [
        {
          "output_type": "stream",
          "name": "stderr",
          "text": [
            "100%|██████████| 50/50 [00:02<00:00, 17.00it/s]\n"
          ]
        }
      ]
    },
    {
      "cell_type": "code",
      "source": [
        "env.reset()\n",
        "regret4 = np.zeros((10000,50))\n",
        "perc_opt_act4 = np.zeros((10000,50))\n",
        "average_rewards4 = np.zeros((10000,50))\n",
        "\n",
        "for r in tqdm(range(50)):\n",
        "    sum_rewards = 0\n",
        "    opt_act_count = 0\n",
        "    exp_opt_act = 0.9\n",
        "    \n",
        "    agent4 = AlwaysWorstAgent(environment = env)\n",
        "    \n",
        "    for t in range(10000):\n",
        "        rew , act, _ = agent4.take_action()\n",
        "        sum_rewards += rew\n",
        "        \n",
        "        if t < 9000:\n",
        "            opt_act_count += int(act == 0)\n",
        "            regret4[t,r] = (t+1)*exp_opt_act - sum_rewards\n",
        "        \n",
        "        else :\n",
        "            opt_act_count += int(act == 1)\n",
        "            exp_opt_act = 0.9\n",
        "            regret4[t,r] = 9000 * 0.9 + (t+1 - 9000)*exp_opt_act - sum_rewards\n",
        "\n",
        "        perc_opt_act4[t,r] = opt_act_count / (t+1)\n",
        "        average_rewards4[t,r] = sum_rewards / (t+1)\n",
        "\n",
        "    env.reset()"
      ],
      "metadata": {
        "id": "ai2i7lGzPySk",
        "colab": {
          "base_uri": "https://localhost:8080/"
        },
        "outputId": "907af4ac-cdc0-4299-e6a5-5393c4c6ed73"
      },
      "execution_count": 57,
      "outputs": [
        {
          "output_type": "stream",
          "name": "stderr",
          "text": [
            "100%|██████████| 50/50 [00:02<00:00, 16.96it/s]\n"
          ]
        }
      ]
    },
    {
      "cell_type": "code",
      "source": [
        "\n",
        "env.reset()\n",
        "regret5 = np.zeros((10000,50))\n",
        "perc_opt_act5 = np.zeros((10000,50))\n",
        "average_rewards5 = np.zeros((10000,50))\n",
        "\n",
        "for r in tqdm(range(50)):\n",
        "    exp_opt_act = 0.9\n",
        "    sum_rewards = 0\n",
        "    opt_act_count = 0\n",
        "\n",
        "    agent5 = AlwaysRandomAgent(environment = env)\n",
        "\n",
        "    # agent4 = gradientAgent('1',env, alpha = 0.1, Baseline_lr = 0.01)\n",
        "    for t in range(10000):\n",
        "        rew , act, _ = agent5.take_action()\n",
        "        \n",
        "        sum_rewards += rew\n",
        "        \n",
        "        if t < 9000:\n",
        "            opt_act_count += int(act == 0)\n",
        "            regret5[t,r] = (t+1)*exp_opt_act - sum_rewards\n",
        "        \n",
        "        else :\n",
        "            opt_act_count += int(act == 1)\n",
        "            exp_opt_act = 0.9\n",
        "            regret5[t,r] = 9000 * 0.9 + (t+1 - 9000)*exp_opt_act - sum_rewards\n",
        "\n",
        "        perc_opt_act5[t,r] = opt_act_count / (t+1)\n",
        "        average_rewards5[t,r] = sum_rewards / (t+1)\n",
        "\n",
        "    env.reset()"
      ],
      "metadata": {
        "id": "waOPxDZfPySl",
        "colab": {
          "base_uri": "https://localhost:8080/"
        },
        "outputId": "d8a9aca8-6c6b-453f-aeaa-5c92db3b2cc5"
      },
      "execution_count": 58,
      "outputs": [
        {
          "output_type": "stream",
          "name": "stderr",
          "text": [
            "100%|██████████| 50/50 [00:12<00:00,  3.90it/s]\n"
          ]
        }
      ]
    },
    {
      "cell_type": "code",
      "source": [
        "som1 = np.std(perc_opt_act1,axis = 1) / np.sqrt(perc_opt_act1.shape[1])\n",
        "mean1 = np.mean(perc_opt_act1,axis = 1)\n",
        "\n",
        "som2 = np.std(perc_opt_act2,axis = 1) / np.sqrt(perc_opt_act2.shape[1])\n",
        "mean2 = np.mean(perc_opt_act2,axis = 1)\n",
        "\n",
        "som3 = np.std(perc_opt_act3,axis = 1) / np.sqrt(perc_opt_act3.shape[1])\n",
        "mean3 = np.mean(perc_opt_act3,axis = 1)\n",
        "\n",
        "som4 = np.std(perc_opt_act4,axis = 1) / np.sqrt(perc_opt_act4.shape[1])\n",
        "mean4 = np.mean(perc_opt_act4,axis = 1)\n",
        "\n",
        "som5 = np.std(perc_opt_act5,axis = 1) / np.sqrt(perc_opt_act5.shape[1])\n",
        "mean5 = np.mean(perc_opt_act5,axis = 1)\n",
        "\n",
        "fig, ax = plt.subplots()\n",
        "ax.plot(range(10000), mean1, 'b')\n",
        "ax.fill_between(range(10000), (mean1-som1), (mean1+som1), color='b', alpha=.1)\n",
        "ax.plot(range(10000), mean2,'r')\n",
        "ax.fill_between(range(10000), (mean2-som2), (mean2+som2), color='r', alpha=.1)\n",
        "ax.plot(range(10000), mean3, 'g')\n",
        "ax.fill_between(range(10000), (mean3-som3), (mean3+som3), color='g', alpha=.1)\n",
        "ax.plot(range(10000), mean4, 'black')\n",
        "ax.fill_between(range(10000), (mean4-som4), (mean4+som4), color='black', alpha=.1)\n",
        "ax.plot(range(10000), mean5, 'gray')\n",
        "ax.fill_between(range(10000), (mean5-som5), (mean5+som5), color='gray', alpha=.1)\n",
        "ax.set_ylabel('% Optimal action',rotation = 90)\n",
        "ax.set_xlabel('Steps')\n",
        "ax.legend([\"AlwaysBest\", \"BestPercent\",\"SecondBest\", \"AlwaysWorst\", \"AlwasRandom\" ])\n",
        "plt.show()"
      ],
      "metadata": {
        "id": "GkPOQkjmPySl",
        "colab": {
          "base_uri": "https://localhost:8080/",
          "height": 279
        },
        "outputId": "1c25074e-551d-439a-d5a8-829472e5137a"
      },
      "execution_count": 59,
      "outputs": [
        {
          "output_type": "display_data",
          "data": {
            "text/plain": [
              "<Figure size 432x288 with 1 Axes>"
            ],
            "image/png": "[encoded data removed]"
          },
          "metadata": {
            "needs_background": "light"
          }
        }
      ]
    },
    {
      "cell_type": "markdown",
      "source": [
        "## Social Learning Implementation"
      ],
      "metadata": {
        "id": "BX5FnIHPghU-"
      }
    },
    {
      "cell_type": "markdown",
      "source": [
        "Agent id -1 is equivalant to None"
      ],
      "metadata": {
        "id": "BDVpDK72u6-y"
      }
    },
    {
      "cell_type": "code",
      "source": [
        "class MostFrequentSocialStrategy():\n",
        "    def __init__(self):\n",
        "        \"\"\"\n",
        "        \"\"\"\n",
        "        pass \n",
        "        \n",
        "    def select_action(self, env, selecting_policy):\n",
        "        agent_id = np.random.choice(len(selecting_policy),p = selecting_policy)    \n",
        "        return env.agents_last_choice[agent_id], agent_id"
      ],
      "metadata": {
        "id": "YdKWVicoNAiy"
      },
      "execution_count": 56,
      "outputs": []
    },
    {
      "cell_type": "code",
      "source": [
        "class PreferenceBasedSocialAgent(AgentBase):\n",
        "\n",
        "    def __init__(self, ilm, lr = 0.1, id = None, env = None):\n",
        "        \"\"\"\n",
        "        ilm: \n",
        "        lr:\n",
        "        id: \n",
        "        env: an environment object\n",
        "        \"\"\"\n",
        "        super(PreferenceBasedSocialAgent, self).__init__(env, id = id)\n",
        "        self.ilm = ilm \n",
        "        self.lr = lr\n",
        "        self.t = 0 #trial\n",
        "        self.total_mean_reward = 0 \n",
        "        self.selecting_history = []\n",
        "        self.actions = []\n",
        "\n",
        "        if self.environment is not None:\n",
        "            self.n = len(self.environment.agents_last_choice) # number of agents\n",
        "            self.k = self.environment.n_actions() # number of actions\n",
        "            self.preferences = np.zeros(self.n)+0.0001\n",
        "            self.lrs = np.ones(self.n)*lr\n",
        "            self.social_information = np.zeros((self.n,self.k))\n",
        "            # uniform initialization, (Others can be done, ourself 1 the others zero)\n",
        "            self.selecting_policy = np.ones(self.n)/self.n\n",
        "            self.preferences_history  = {i:[] for i in range(self.n)}\n",
        "\n",
        "    def set_environment(self, env):\n",
        "        self.environment = env \n",
        "        self.n = len(self.environment.agents_last_choice) # number of agents\n",
        "        self.k = self.environment.n_actions() # number of actions\n",
        "        self.preferences = np.zeros(self.n)+0.0001\n",
        "        self.lrs = np.ones(self.n)*self.lr\n",
        "        self.social_information = np.zeros((self.n,self.k))\n",
        "        # uniform initialization, (Others can be done, ourself 1 the others zero)\n",
        "        self.selecting_policy = np.ones(self.n)/self.n\n",
        "        self.preferences_history  = {i:[] for i in range(self.n)}\n",
        "\n",
        "    def update(self, u, action, agent_id, ind_mode):\n",
        "        self.t += 1\n",
        "        self.total_mean_reward += (u - self.total_mean_reward)/self.t\n",
        "        same = []\n",
        "        for i in range(self.n):\n",
        "            self.social_information[i][self.environment.agents_last_choice[i]] += 1\n",
        "            if self.environment.agents_last_choice[i]== action:\n",
        "                same.append(i)\n",
        "        if self.id not in same and self.ilm.select_action() == action:\n",
        "            same.append(self.id)\n",
        "        \n",
        "        self.preferences -= self.lrs *  (u - self.total_mean_reward) * self.selecting_policy\n",
        "        for index in same:\n",
        "            self.preferences[index] += self.lrs * (u - self.total_mean_reward)\n",
        "        # self.preference = np.round(self.preference,2)\n",
        "        # d = np.sum(np.exp(self.preference))\n",
        "        # mask = np.ones(len(self.preference))*alpha\n",
        "        # self.preference = self.preference - mask * (Ri - self.mean_reward) * np.exp(self.preference)/d\n",
        "        # for index in same:\n",
        "        #     self.preference[index] = self.preference[index] + alpha * (Ri - self.mean_reward)\n",
        "\n",
        "        p = np.exp(self.preferences - np.max(self.preferences))\n",
        "        self.selecting_policy = p / p.sum(axis=0)\n",
        "        for i in range(self.n):\n",
        "            self.preferences_history[i].append(self.selecting_policy[i])\n",
        "        # p =  np.round(np.exp(np.round(self.preferences,2)),2)\n",
        "        # self.selecting_policy = p/np.sum(p)\n",
        "        # for j in range(len(p)):\n",
        "        #     if np.isnan(p[j]):\n",
        "        #         p[j] = 1\n",
        "        if agent_id == self.id or ind_mode:\n",
        "            self.ilm.update(action, u)\n",
        "\n",
        "    def select_action(self, sls, ind_mode):\n",
        "        action, agent_id = sls.select_action(self.environment, self.selecting_policy) \n",
        "        if agent_id == self.id or ind_mode:\n",
        "            self.selecting_history.append(self.id) #?????????????????????????????????????????????????????/\n",
        "            # choose individual learning method\n",
        "            action = self.ilm.select_action()\n",
        "        else:\n",
        "            print(\"*\")\n",
        "            self.selecting_history.append(agent_id)\n",
        "\n",
        "        return action, agent_id\n",
        "\n",
        "    def take_action(self, sls, ind_mode = False):\n",
        "        if self.environment is None:\n",
        "            raise(\"env is not defined,\")\n",
        "        action, agent_id = self.select_action(sls, ind_mode)\n",
        "        obs, r, d, i = self.environment.step(action, self.id)\n",
        "        u = self.utility_function(r)\n",
        "        self.update(u,action, agent_id, ind_mode)\n",
        "        self.actions.append(action)        \n",
        "        return r,action, u\n",
        "\n",
        "    def get_actions(self):\n",
        "        return self.actions"
      ],
      "metadata": {
        "id": "zKt85cNFsHS2"
      },
      "execution_count": 77,
      "outputs": []
    },
    {
      "cell_type": "code",
      "source": [
        "class MetaSocialLearnerAgent(AgentBase):\n",
        "\n",
        "    def __init__(self, slm, sls, env = None):\n",
        "        super(MetaSocialLearnerAgent, self).__init__(environment = env) \n",
        "        self.slm = slm\n",
        "        self.sls = sls\n",
        "        self.ind_mode = False \n",
        "\n",
        "    def set_environment(self, env):\n",
        "        self.environment = env\n",
        "        self.slm.environment = env\n",
        "        \n",
        "    def update(self, u, action):\n",
        "        # Novelty/Surprise\n",
        "        # Volatileness\n",
        "        # Uncertainty\n",
        "        return \n",
        "    \n",
        "    def select_sls(self):\n",
        "        pass \n",
        "    \n",
        "    def select_slm(self):\n",
        "        pass\n",
        "\n",
        "    def take_action(self):\n",
        "        # Based on Novelty/Surprise, Volatileness, Uncertainty\n",
        "        # Select social learning strategy\n",
        "        # Select social learning method using Free energy or predefined rules\n",
        "        if self.environment is None: \n",
        "            raise(\"environment is not defined\")\n",
        "        r, action, u = self.slm.take_action(self.sls, self.ind_mode)\n",
        "        self.update(u,action)\n",
        "        \n",
        "        return r, action, u"
      ],
      "metadata": {
        "id": "ARUX2qwyPhJS"
      },
      "execution_count": 67,
      "outputs": []
    },
    {
      "cell_type": "code",
      "source": [
        "class agents_population():\n",
        "    def __init__(self, ):\n",
        "        \"\"\"\n",
        "        should return a list of agent objects\n",
        "        \"\"\"\n",
        "        pass\n"
      ],
      "metadata": {
        "id": "cSxgFpiXPrKQ"
      },
      "execution_count": 59,
      "outputs": []
    },
    {
      "cell_type": "code",
      "source": [
        "class environemnt_class():\n",
        "    def __init__(self):\n",
        "        \"\"\"\n",
        "        should return a list of environment objects\n",
        "        \"\"\"\n",
        "        pass"
      ],
      "metadata": {
        "id": "x8uI_PJjeeht"
      },
      "execution_count": 60,
      "outputs": []
    },
    {
      "cell_type": "code",
      "source": [
        "class SocialBanditLearning():\n",
        "    def __init__(self, pop_agents, env_class, n_trials, n_reps):\n",
        "        \"\"\"\n",
        "        pop_agents: a list of agent obejcts\n",
        "        env_class: a list of environment objects\n",
        "        n_reps: an integer, number of repetiotions\n",
        "        n_trials: an integer, number of trials \n",
        "        \"\"\"\n",
        "        self.pop_agents = pop_agents\n",
        "        self.env_class = env_class\n",
        "        self.n_trials = n_trials \n",
        "        self.n_reps = n_reps \n",
        "        self.n_agents = len(pop_agents)\n",
        "        self.n_envs = len(env_class)\n",
        "\n",
        "        self.best_actions, self.best_exp_u = self.calculate_bests()    \n",
        "        \n",
        "        self.action_history = np.zeros((self.n_envs, self.n_agents, self.n_reps, self.n_trials))\n",
        "        self.utility_history = np.zeros((self.n_envs, self.n_agents, self.n_reps, self.n_trials)) \n",
        "        \n",
        "        self.regret = np.zeros((self.n_envs, self.n_agents, self.n_reps, self.n_trials))\n",
        "        self.perc_opt_act = np.zeros((self.n_envs, self.n_agents, self.n_reps, self.n_trials))\n",
        "        self.average_utils = np.zeros((self.n_envs, self.n_agents, self.n_reps, self.n_trials))\n",
        "        \n",
        "    def best_max(self, env, agent): \n",
        "        EU = np.array([agent.utility_function(r.mean) for r in env.arms_rewards])\n",
        "        max_ind = np.random.choice(np.flatnonzero(EU == EU.max()))\n",
        "        return max_ind, EU.max() \n",
        "\n",
        "    def calculate_bests(self):\n",
        "        best_actions = np.zeros((self.n_envs, self.n_agents))\n",
        "        best_exp_u = np.zeros((self.n_envs, self.n_agents))\n",
        "        for i, env in enumerate(self.env_class):\n",
        "            for j, agent in enumerate(self.pop_agents):\n",
        "                best_actions[i,j], best_exp_u[i,j] = self.best_max(env, agent)\n",
        "        \n",
        "        return best_actions, best_exp_u\n",
        "\n",
        "    def run(self):\n",
        "        for i, env in enumerate(self.env_class):\n",
        "            env.reset()\n",
        "\n",
        "            for r in range(self.n_reps):\n",
        "                sum_utils = np.zeros((self.n_agents))\n",
        "    \n",
        "                for t in range(self.n_trials):\n",
        "                    \n",
        "                    for j, agent in enumerate(self.pop_agents):\n",
        "                        agent.set_environment(env)\n",
        "                        rew, act, u = agent.take_action()\n",
        "                        self.action_history[i,j,r,t] = act\n",
        "                        self.utility_history[i,j,r,t] = u\n",
        "                        sum_utils[j] += u\n",
        "                    \n",
        "                    self.perc_opt_act[i,:,r,t] += (self.action_history[i,:,r,t] == self.best_actions[i,:]).astype(int) / (t+1)\n",
        "                    self.regret[i,:,r,t] = (t+1)*self.best_exp_u[i,:] - sum_utils\n",
        "                    self.average_utils[i,:,r,t] = sum_utils / (t+1)\n",
        "                    \n",
        "                env.reset()\n",
        "    \n",
        "    def regret_visulization(self):\n",
        "        \"\"\"\n",
        "        compare to individual learning\n",
        "        \"\"\"\n",
        "\n",
        "        pass"
      ],
      "metadata": {
        "id": "0iPOr6AvNYsG"
      },
      "execution_count": 61,
      "outputs": []
    },
    {
      "cell_type": "markdown",
      "source": [
        "## Test II"
      ],
      "metadata": {
        "id": "WT-G_muSJW2U"
      }
    },
    {
      "cell_type": "markdown",
      "source": [
        "### Test ilm of msl"
      ],
      "metadata": {
        "id": "dSXb24Vq6yif"
      }
    },
    {
      "cell_type": "code",
      "source": [
        "Multinomial_Rewards = {  '2arm_Hard' : [MultinomialReward_NonStationary([1,0],[0.9,0.1], switch_t = 1000),\n",
        "                                        MultinomialReward_NonStationary([1,0],[0.8,0.2], switch_t = 1000)] ,\n",
        "                       \n",
        "                         '2arm_Med'  : [MultinomialReward_NonStationary([1,0],[0.9,0.1], switch_t = 1000),\n",
        "                                        MultinomialReward_NonStationary([1,0],[0.5,0.5], switch_t = 1000)],\n",
        "                       \n",
        "                         '2arm_Easy' : [MultinomialReward_NonStationary([1,0],[0.9,0.1], switch_t = 1000),\n",
        "                                        MultinomialReward_NonStationary([1,0],[0.1,0.9], switch_t = 1000)]} "
      ],
      "metadata": {
        "id": "EurkXKTLRWu7"
      },
      "execution_count": 63,
      "outputs": []
    },
    {
      "cell_type": "code",
      "source": [
        "fig, ax = plt.subplots()\n",
        "ax.plot(range(10000), np.array([0.9] * 1000 + [0.1] * 9000), 'b')\n",
        "ax.plot(range(10000), np.array([0.1] * 1000 + [0.9] * 9000),'r')\n",
        "\n",
        "ax.set_ylabel('True Mean Reward',rotation = 90)\n",
        "ax.set_xlabel('Steps')\n",
        "ax.legend([\"arm 1\", \"arm 2\"])\n",
        "plt.show()"
      ],
      "metadata": {
        "id": "6_FyRcO3RWu7"
      },
      "execution_count": null,
      "outputs": []
    },
    {
      "cell_type": "code",
      "source": [
        "env = SocialMutliArmedBanditEnvironment(Multinomial_Rewards['2arm_Easy'], 10000)"
      ],
      "metadata": {
        "id": "aWmw963PRWu7"
      },
      "execution_count": 65,
      "outputs": []
    },
    {
      "cell_type": "code",
      "source": [
        "env.reset()\n",
        "regret1 = np.zeros((10000,50))\n",
        "perc_opt_act1 = np.zeros((10000,50))\n",
        "average_rewards1 = np.zeros((10000,50))\n",
        "\n",
        "for r in tqdm(range(50)):\n",
        "    sum_rewards = 0\n",
        "    opt_act_count = 0\n",
        "    exp_opt_act = 0.9    \n",
        "    \n",
        "    ilm1 = EpsilonGreedyAgent(environment = env, epsilon = 0.1, lr = 0.1)\n",
        "    sls1 = MostFrequentSocialStrategy()\n",
        "    slm1 = PreferenceBasedSocialAgent(env, 0, 0.1, ilm1)\n",
        "    msl1 = MetaSocialLearnerAgent(env, slm1, sls1)\n",
        "\n",
        "    for t in range(10000):\n",
        "        rew , act, _ = msl1.take_action()\n",
        "\n",
        "        sum_rewards += rew\n",
        "        \n",
        "        if t < 1000:\n",
        "            opt_act_count += int(act == 0)\n",
        "            regret1[t,r] = (t+1)*exp_opt_act - sum_rewards\n",
        "\n",
        "        else :\n",
        "            opt_act_count += int(act == 1)\n",
        "            exp_opt_act = 0.9\n",
        "            regret1[t,r] = 1000 * 0.9 + (t+1 - 1000)*exp_opt_act - sum_rewards\n",
        "\n",
        "        perc_opt_act1[t,r] = opt_act_count / (t+1)\n",
        "        average_rewards1[t,r] = sum_rewards / (t+1)\n",
        "\n",
        "    env.reset()"
      ],
      "metadata": {
        "colab": {
          "base_uri": "https://localhost:8080/"
        },
        "outputId": "285e30f2-ebfc-49b5-c34a-e38a406b8082",
        "id": "pfFJQaq2RWu8"
      },
      "execution_count": 66,
      "outputs": [
        {
          "output_type": "stream",
          "name": "stderr",
          "text": [
            "100%|██████████| 50/50 [00:47<00:00,  1.06it/s]\n"
          ]
        }
      ]
    },
    {
      "cell_type": "code",
      "source": [
        "env.reset()\n",
        "regret2 = np.zeros((10000,50))\n",
        "perc_opt_act2 = np.zeros((10000,50))\n",
        "average_rewards2 = np.zeros((10000,50))\n",
        "\n",
        "for r in tqdm(range(50)):\n",
        "    exp_opt_act = 0.9\n",
        "    sum_rewards = 0\n",
        "    opt_act_count = 0\n",
        "    \n",
        "    ilm2 = UCBAgent(environment = env, c =2, lr = 0.1)\n",
        "    sls2 = MostFrequentSocialStrategy()\n",
        "    slm2 = PreferenceBasedSocialAgent(env, 0, 0.1, ilm2)\n",
        "    msl2 = MetaSocialLearnerAgent(env, slm2, sls2)\n",
        "\n",
        "    # agent2 = UCBBanditAgent('1',env, c = 2, lr = 0.1)\n",
        "    \n",
        "    for t in range(10000):\n",
        "        rew , act, _ = msl2.take_action()\n",
        "        \n",
        "        sum_rewards += rew\n",
        "        \n",
        "        if t < 1000:\n",
        "            opt_act_count += int(act == 0)\n",
        "            regret2[t,r] = (t+1)*exp_opt_act - sum_rewards\n",
        "\n",
        "        else:\n",
        "            opt_act_count += int(act == 1)\n",
        "            exp_opt_act = 0.9\n",
        "            regret2[t,r] = 1000 * 0.9 + (t+1 - 1000)*exp_opt_act - sum_rewards\n",
        "\n",
        "        perc_opt_act2[t,r] = opt_act_count / (t+1)\n",
        "        average_rewards2[t,r] = sum_rewards / (t+1)\n",
        "\n",
        "    env.reset()"
      ],
      "metadata": {
        "colab": {
          "base_uri": "https://localhost:8080/"
        },
        "outputId": "6bbc1eb9-15df-4b10-eacd-b2f99c0aa033",
        "id": "dO0CfUH7yoyj"
      },
      "execution_count": 67,
      "outputs": [
        {
          "output_type": "stream",
          "name": "stderr",
          "text": [
            "100%|██████████| 50/50 [01:15<00:00,  1.51s/it]\n"
          ]
        }
      ]
    },
    {
      "cell_type": "code",
      "source": [
        "env.reset()\n",
        "regret3 = np.zeros((10000,50))\n",
        "perc_opt_act3 = np.zeros((10000,50))\n",
        "average_rewards3 = np.zeros((10000,50))\n",
        "\n",
        "for r in tqdm(range(50)):\n",
        "    sum_rewards = 0\n",
        "    opt_act_count = 0\n",
        "    exp_opt_act = 0.9\n",
        "\n",
        "    ilm3 = ThompsonSamplingAgent(environment = env)\n",
        "    sls3 = MostFrequentSocialStrategy()\n",
        "    slm3 = PreferenceBasedSocialAgent(env, 0, 0.1, ilm3)\n",
        "    msl3 = MetaSocialLearnerAgent(env, slm3, sls3)\n",
        "    \n",
        "    for t in range(10000):\n",
        "        rew , act, _ = msl3.take_action()\n",
        "        \n",
        "        sum_rewards += rew\n",
        "        \n",
        "        if t < 1000:\n",
        "            opt_act_count += int(act == 0)\n",
        "            regret3[t,r] = (t+1)*exp_opt_act - sum_rewards\n",
        "\n",
        "        else :\n",
        "            opt_act_count += int(act == 1)\n",
        "            exp_opt_act = 0.9\n",
        "            regret3[t,r] = 1000 * 0.9 + (t+1 - 1000)*exp_opt_act - sum_rewards\n",
        "\n",
        "        perc_opt_act3[t,r] = opt_act_count / (t+1)\n",
        "        average_rewards3[t,r] = sum_rewards / (t+1)\n",
        "\n",
        "    env.reset()"
      ],
      "metadata": {
        "colab": {
          "base_uri": "https://localhost:8080/"
        },
        "outputId": "cb5437bf-0f1b-4de6-87d0-73ec7def5e6a",
        "id": "brvxJ7mWyoyl"
      },
      "execution_count": 68,
      "outputs": [
        {
          "output_type": "stream",
          "name": "stderr",
          "text": [
            "100%|██████████| 50/50 [01:09<00:00,  1.38s/it]\n"
          ]
        }
      ]
    },
    {
      "cell_type": "code",
      "source": [
        "env.reset()\n",
        "regret4 = np.zeros((10000,50))\n",
        "perc_opt_act4 = np.zeros((10000,50))\n",
        "average_rewards4 = np.zeros((10000,50))\n",
        "\n",
        "for r in tqdm(range(50)):\n",
        "    sum_rewards = 0\n",
        "    opt_act_count = 0\n",
        "    exp_opt_act = 0.9\n",
        "    \n",
        "    ilm4 = GradientBanditAgent(environment = env)\n",
        "    sls4 = MostFrequentSocialStrategy()\n",
        "    slm4 = PreferenceBasedSocialAgent(env, 0, 0.1, ilm4)\n",
        "    msl4 = MetaSocialLearnerAgent(env, slm4, sls4)  \n",
        "    \n",
        "    for t in range(10000):\n",
        "        rew , act, _ = msl4.take_action()\n",
        "        sum_rewards += rew\n",
        "        \n",
        "        if t < 1000:\n",
        "            opt_act_count += int(act == 0)\n",
        "            regret4[t,r] = (t+1)*exp_opt_act - sum_rewards\n",
        "        \n",
        "        else :\n",
        "            opt_act_count += int(act == 1)\n",
        "            exp_opt_act = 0.9\n",
        "            regret4[t,r] = 1000 * 0.9 + (t+1 - 1000)*exp_opt_act - sum_rewards\n",
        "\n",
        "        perc_opt_act4[t,r] = opt_act_count / (t+1)\n",
        "        average_rewards4[t,r] = sum_rewards / (t+1)\n",
        "\n",
        "    env.reset()"
      ],
      "metadata": {
        "colab": {
          "base_uri": "https://localhost:8080/"
        },
        "outputId": "f9d9961b-2ebf-4c12-d301-220fd04d1a50",
        "id": "I3MnZUw_yoym"
      },
      "execution_count": 69,
      "outputs": [
        {
          "output_type": "stream",
          "name": "stderr",
          "text": [
            "100%|██████████| 50/50 [01:07<00:00,  1.35s/it]\n"
          ]
        }
      ]
    },
    {
      "cell_type": "code",
      "source": [
        "\n",
        "env.reset()\n",
        "regret5 = np.zeros((10000,50))\n",
        "perc_opt_act5 = np.zeros((10000,50))\n",
        "average_rewards5 = np.zeros((10000,50))\n",
        "\n",
        "for r in tqdm(range(50)):\n",
        "    exp_opt_act = 0.9\n",
        "    sum_rewards = 0\n",
        "    opt_act_count = 0\n",
        "\n",
        "    ilm5 = ActorCriticAgent(environment = env, lr = 0.1)\n",
        "    sls5 = MostFrequentSocialStrategy()\n",
        "    slm5 = PreferenceBasedSocialAgent(env, 0, 0.1, ilm5)\n",
        "    msl5 = MetaSocialLearnerAgent(env, slm5, sls5)\n",
        "\n",
        "    # agent4 = gradientAgent('1',env, alpha = 0.1, Baseline_lr = 0.01)\n",
        "    for t in range(10000):\n",
        "        rew , act, _ = msl5.take_action()\n",
        "        \n",
        "        sum_rewards += rew\n",
        "        \n",
        "        if t < 1000:\n",
        "            opt_act_count += int(act == 0)\n",
        "            regret5[t,r] = (t+1)*exp_opt_act - sum_rewards\n",
        "        \n",
        "        else :\n",
        "            opt_act_count += int(act == 1)\n",
        "            exp_opt_act = 0.9\n",
        "            regret5[t,r] = 1000 * 0.9 + (t+1 - 1000)*exp_opt_act - sum_rewards\n",
        "\n",
        "        perc_opt_act5[t,r] = opt_act_count / (t+1)\n",
        "        average_rewards5[t,r] = sum_rewards / (t+1)\n",
        "\n",
        "    env.reset()"
      ],
      "metadata": {
        "colab": {
          "base_uri": "https://localhost:8080/"
        },
        "outputId": "dc96e55c-268e-441c-f0a7-08c092d5d60b",
        "id": "qBB74Zquyoyn"
      },
      "execution_count": 70,
      "outputs": [
        {
          "output_type": "stream",
          "name": "stderr",
          "text": [
            "100%|██████████| 50/50 [01:09<00:00,  1.39s/it]\n"
          ]
        }
      ]
    },
    {
      "cell_type": "code",
      "source": [
        "som1 = np.std(perc_opt_act1,axis = 1) / np.sqrt(perc_opt_act1.shape[1])\n",
        "mean1 = np.mean(perc_opt_act1,axis = 1)\n",
        "\n",
        "som2 = np.std(perc_opt_act2,axis = 1) / np.sqrt(perc_opt_act2.shape[1])\n",
        "mean2 = np.mean(perc_opt_act2,axis = 1)\n",
        "\n",
        "som3 = np.std(perc_opt_act3,axis = 1) / np.sqrt(perc_opt_act3.shape[1])\n",
        "mean3 = np.mean(perc_opt_act3,axis = 1)\n",
        "\n",
        "som4 = np.std(perc_opt_act4,axis = 1) / np.sqrt(perc_opt_act4.shape[1])\n",
        "mean4 = np.mean(perc_opt_act4,axis = 1)\n",
        "\n",
        "som5 = np.std(perc_opt_act5,axis = 1) / np.sqrt(perc_opt_act5.shape[1])\n",
        "mean5 = np.mean(perc_opt_act5,axis = 1)\n",
        "\n",
        "fig, ax = plt.subplots()\n",
        "ax.plot(range(10000), mean1, 'b')\n",
        "ax.fill_between(range(10000), (mean1-som1), (mean1+som1), color='b', alpha=.1)\n",
        "ax.plot(range(10000), mean2,'r')\n",
        "ax.fill_between(range(10000), (mean2-som2), (mean2+som2), color='r', alpha=.1)\n",
        "ax.plot(range(10000), mean3, 'g')\n",
        "ax.fill_between(range(10000), (mean3-som3), (mean3+som3), color='g', alpha=.1)\n",
        "ax.plot(range(10000), mean4, 'black')\n",
        "ax.fill_between(range(10000), (mean4-som4), (mean4+som4), color='black', alpha=.1)\n",
        "ax.plot(range(10000), mean5, 'gray')\n",
        "ax.fill_between(range(10000), (mean5-som5), (mean5+som5), color='gray', alpha=.1)\n",
        "ax.set_ylabel('% Optimal action',rotation = 90)\n",
        "ax.set_xlabel('Steps')\n",
        "ax.legend([\"Eps-greedy\", \"UCB\",\"Thompson\", \"Policy-gradient\", \"Actor-Critic\" ])\n",
        "plt.show()"
      ],
      "metadata": {
        "colab": {
          "base_uri": "https://localhost:8080/",
          "height": 279
        },
        "id": "D4PK9sWaseKF",
        "outputId": "cfa37c4e-d0d0-4c46-ae52-89dd7a6e7aa8"
      },
      "execution_count": 71,
      "outputs": [
        {
          "output_type": "display_data",
          "data": {
            "text/plain": [
              "<Figure size 432x288 with 1 Axes>"
            ],
            "image/png": "[encoded data removed]"
          },
          "metadata": {
            "needs_background": "light"
          }
        }
      ]
    },
    {
      "cell_type": "markdown",
      "source": [
        "### Test slm"
      ],
      "metadata": {
        "id": "H6vbj3WyfdkB"
      }
    },
    {
      "cell_type": "code",
      "source": [
        "pop_agents = []\n",
        "for i in range(10):\n",
        "    pop_agents.append(AlwaysRandomAgent())\n",
        "\n",
        "pop_agents.append(ThompsonSamplingAgent())\n",
        "\n",
        "ilm1 = EpsilonGreedyAgent(epsilon = 0.1, lr = 0.1)\n",
        "sls1 = MostFrequentSocialStrategy()\n",
        "slm1 = PreferenceBasedSocialAgent(ilm1, 0.1)\n",
        "msl1 = MetaSocialLearnerAgent(slm1, sls1)\n",
        "pop_agents.append(msl1)"
      ],
      "metadata": {
        "id": "habgwhnjfiUz"
      },
      "execution_count": 73,
      "outputs": []
    },
    {
      "cell_type": "code",
      "source": [
        "env_class = []\n",
        "rewards = [(i-100)/10 for i in range(200)]\n",
        "for k in [10,100]:\n",
        "    reward_means = np.random.choice(rewards,k, replace=False)\n",
        "    reward_means = np.sort(reward_means)\n",
        "    reward_var = np.ones(k)\n",
        "    Reward = [GaussianReward(reward_means[i], reward_var[i]) for i in range(k)]\n",
        "    env = SocialMutliArmedBanditEnvironment(Reward, 10000)\n",
        "    env_class.append(env)"
      ],
      "metadata": {
        "id": "cbvEGZMiy8KA"
      },
      "execution_count": 74,
      "outputs": []
    },
    {
      "cell_type": "code",
      "source": [
        "sbl = SocialBanditLearning(pop_agents, env_class, 1000, 30)"
      ],
      "metadata": {
        "id": "5PBum-JbFZ05"
      },
      "execution_count": 75,
      "outputs": []
    },
    {
      "cell_type": "code",
      "source": [
        "sbl.run()"
      ],
      "metadata": {
        "colab": {
          "base_uri": "https://localhost:8080/",
          "height": 675
        },
        "id": "uOvdhw_Cvuz6",
        "outputId": "ca520595-5a32-4315-eb75-9b415264c941"
      },
      "execution_count": 76,
      "outputs": [
        {
          "output_type": "error",
          "ename": "AttributeError",
          "evalue": "ignored",
          "traceback": [
            "\u001b[0;31m---------------------------------------------------------------------------\u001b[0m",
            "\u001b[0;31mAttributeError\u001b[0m                            Traceback (most recent call last)",
            "\u001b[0;32m<ipython-input-76-f95e588deac5>\u001b[0m in \u001b[0;36m<module>\u001b[0;34m\u001b[0m\n\u001b[0;32m----> 1\u001b[0;31m \u001b[0msbl\u001b[0m\u001b[0;34m.\u001b[0m\u001b[0mrun\u001b[0m\u001b[0;34m(\u001b[0m\u001b[0;34m)\u001b[0m\u001b[0;34m\u001b[0m\u001b[0;34m\u001b[0m\u001b[0m\n\u001b[0m",
            "\u001b[0;32m<ipython-input-61-2afb6968e425>\u001b[0m in \u001b[0;36mrun\u001b[0;34m(self)\u001b[0m\n\u001b[1;32m     48\u001b[0m                     \u001b[0;32mfor\u001b[0m \u001b[0mj\u001b[0m\u001b[0;34m,\u001b[0m \u001b[0magent\u001b[0m \u001b[0;32min\u001b[0m \u001b[0menumerate\u001b[0m\u001b[0;34m(\u001b[0m\u001b[0mself\u001b[0m\u001b[0;34m.\u001b[0m\u001b[0mpop_agents\u001b[0m\u001b[0;34m)\u001b[0m\u001b[0;34m:\u001b[0m\u001b[0;34m\u001b[0m\u001b[0;34m\u001b[0m\u001b[0m\n\u001b[1;32m     49\u001b[0m                         \u001b[0magent\u001b[0m\u001b[0;34m.\u001b[0m\u001b[0mset_environment\u001b[0m\u001b[0;34m(\u001b[0m\u001b[0menv\u001b[0m\u001b[0;34m)\u001b[0m\u001b[0;34m\u001b[0m\u001b[0;34m\u001b[0m\u001b[0m\n\u001b[0;32m---> 50\u001b[0;31m                         \u001b[0mrew\u001b[0m\u001b[0;34m,\u001b[0m \u001b[0mact\u001b[0m\u001b[0;34m,\u001b[0m \u001b[0mu\u001b[0m \u001b[0;34m=\u001b[0m \u001b[0magent\u001b[0m\u001b[0;34m.\u001b[0m\u001b[0mtake_action\u001b[0m\u001b[0;34m(\u001b[0m\u001b[0;34m)\u001b[0m\u001b[0;34m\u001b[0m\u001b[0;34m\u001b[0m\u001b[0m\n\u001b[0m\u001b[1;32m     51\u001b[0m                         \u001b[0mself\u001b[0m\u001b[0;34m.\u001b[0m\u001b[0maction_history\u001b[0m\u001b[0;34m[\u001b[0m\u001b[0mi\u001b[0m\u001b[0;34m,\u001b[0m\u001b[0mj\u001b[0m\u001b[0;34m,\u001b[0m\u001b[0mr\u001b[0m\u001b[0;34m,\u001b[0m\u001b[0mt\u001b[0m\u001b[0;34m]\u001b[0m \u001b[0;34m=\u001b[0m \u001b[0mact\u001b[0m\u001b[0;34m\u001b[0m\u001b[0;34m\u001b[0m\u001b[0m\n\u001b[1;32m     52\u001b[0m                         \u001b[0mself\u001b[0m\u001b[0;34m.\u001b[0m\u001b[0mutility_history\u001b[0m\u001b[0;34m[\u001b[0m\u001b[0mi\u001b[0m\u001b[0;34m,\u001b[0m\u001b[0mj\u001b[0m\u001b[0;34m,\u001b[0m\u001b[0mr\u001b[0m\u001b[0;34m,\u001b[0m\u001b[0mt\u001b[0m\u001b[0;34m]\u001b[0m \u001b[0;34m=\u001b[0m \u001b[0mu\u001b[0m\u001b[0;34m\u001b[0m\u001b[0;34m\u001b[0m\u001b[0m\n",
            "\u001b[0;32m<ipython-input-67-457906e210a4>\u001b[0m in \u001b[0;36mtake_action\u001b[0;34m(self)\u001b[0m\n\u001b[1;32m     29\u001b[0m         \u001b[0;32mif\u001b[0m \u001b[0mself\u001b[0m\u001b[0;34m.\u001b[0m\u001b[0menvironment\u001b[0m \u001b[0;32mis\u001b[0m \u001b[0;32mNone\u001b[0m\u001b[0;34m:\u001b[0m\u001b[0;34m\u001b[0m\u001b[0;34m\u001b[0m\u001b[0m\n\u001b[1;32m     30\u001b[0m             \u001b[0;32mraise\u001b[0m\u001b[0;34m(\u001b[0m\u001b[0;34m\"environment is not defined\"\u001b[0m\u001b[0;34m)\u001b[0m\u001b[0;34m\u001b[0m\u001b[0;34m\u001b[0m\u001b[0m\n\u001b[0;32m---> 31\u001b[0;31m         \u001b[0mr\u001b[0m\u001b[0;34m,\u001b[0m \u001b[0maction\u001b[0m\u001b[0;34m,\u001b[0m \u001b[0mu\u001b[0m \u001b[0;34m=\u001b[0m \u001b[0mself\u001b[0m\u001b[0;34m.\u001b[0m\u001b[0mslm\u001b[0m\u001b[0;34m.\u001b[0m\u001b[0mtake_action\u001b[0m\u001b[0;34m(\u001b[0m\u001b[0mself\u001b[0m\u001b[0;34m.\u001b[0m\u001b[0msls\u001b[0m\u001b[0;34m,\u001b[0m \u001b[0mself\u001b[0m\u001b[0;34m.\u001b[0m\u001b[0mind_mode\u001b[0m\u001b[0;34m)\u001b[0m\u001b[0;34m\u001b[0m\u001b[0;34m\u001b[0m\u001b[0m\n\u001b[0m\u001b[1;32m     32\u001b[0m         \u001b[0mself\u001b[0m\u001b[0;34m.\u001b[0m\u001b[0mupdate\u001b[0m\u001b[0;34m(\u001b[0m\u001b[0mu\u001b[0m\u001b[0;34m,\u001b[0m\u001b[0maction\u001b[0m\u001b[0;34m)\u001b[0m\u001b[0;34m\u001b[0m\u001b[0;34m\u001b[0m\u001b[0m\n\u001b[1;32m     33\u001b[0m \u001b[0;34m\u001b[0m\u001b[0m\n",
            "\u001b[0;32m<ipython-input-72-370483b1a94c>\u001b[0m in \u001b[0;36mtake_action\u001b[0;34m(self, sls, ind_mode)\u001b[0m\n\u001b[1;32m     85\u001b[0m         \u001b[0;32mif\u001b[0m \u001b[0mself\u001b[0m\u001b[0;34m.\u001b[0m\u001b[0menvironment\u001b[0m \u001b[0;32mis\u001b[0m \u001b[0;32mNone\u001b[0m\u001b[0;34m:\u001b[0m\u001b[0;34m\u001b[0m\u001b[0;34m\u001b[0m\u001b[0m\n\u001b[1;32m     86\u001b[0m             \u001b[0;32mraise\u001b[0m\u001b[0;34m(\u001b[0m\u001b[0;34m\"env is not defined,\"\u001b[0m\u001b[0;34m)\u001b[0m\u001b[0;34m\u001b[0m\u001b[0;34m\u001b[0m\u001b[0m\n\u001b[0;32m---> 87\u001b[0;31m         \u001b[0maction\u001b[0m\u001b[0;34m,\u001b[0m \u001b[0magent_id\u001b[0m \u001b[0;34m=\u001b[0m \u001b[0mself\u001b[0m\u001b[0;34m.\u001b[0m\u001b[0mselect_action\u001b[0m\u001b[0;34m(\u001b[0m\u001b[0msls\u001b[0m\u001b[0;34m,\u001b[0m \u001b[0mind_mode\u001b[0m\u001b[0;34m)\u001b[0m\u001b[0;34m\u001b[0m\u001b[0;34m\u001b[0m\u001b[0m\n\u001b[0m\u001b[1;32m     88\u001b[0m         \u001b[0mobs\u001b[0m\u001b[0;34m,\u001b[0m \u001b[0mr\u001b[0m\u001b[0;34m,\u001b[0m \u001b[0md\u001b[0m\u001b[0;34m,\u001b[0m \u001b[0mi\u001b[0m \u001b[0;34m=\u001b[0m \u001b[0mself\u001b[0m\u001b[0;34m.\u001b[0m\u001b[0menvironment\u001b[0m\u001b[0;34m.\u001b[0m\u001b[0mstep\u001b[0m\u001b[0;34m(\u001b[0m\u001b[0maction\u001b[0m\u001b[0;34m,\u001b[0m \u001b[0mself\u001b[0m\u001b[0;34m.\u001b[0m\u001b[0mid\u001b[0m\u001b[0;34m)\u001b[0m\u001b[0;34m\u001b[0m\u001b[0;34m\u001b[0m\u001b[0m\n\u001b[1;32m     89\u001b[0m         \u001b[0mu\u001b[0m \u001b[0;34m=\u001b[0m \u001b[0mself\u001b[0m\u001b[0;34m.\u001b[0m\u001b[0mutility_function\u001b[0m\u001b[0;34m(\u001b[0m\u001b[0mr\u001b[0m\u001b[0;34m)\u001b[0m\u001b[0;34m\u001b[0m\u001b[0;34m\u001b[0m\u001b[0m\n",
            "\u001b[0;32m<ipython-input-72-370483b1a94c>\u001b[0m in \u001b[0;36mselect_action\u001b[0;34m(self, sls, ind_mode)\u001b[0m\n\u001b[1;32m     71\u001b[0m \u001b[0;34m\u001b[0m\u001b[0m\n\u001b[1;32m     72\u001b[0m     \u001b[0;32mdef\u001b[0m \u001b[0mselect_action\u001b[0m\u001b[0;34m(\u001b[0m\u001b[0mself\u001b[0m\u001b[0;34m,\u001b[0m \u001b[0msls\u001b[0m\u001b[0;34m,\u001b[0m \u001b[0mind_mode\u001b[0m\u001b[0;34m)\u001b[0m\u001b[0;34m:\u001b[0m\u001b[0;34m\u001b[0m\u001b[0;34m\u001b[0m\u001b[0m\n\u001b[0;32m---> 73\u001b[0;31m         \u001b[0maction\u001b[0m\u001b[0;34m,\u001b[0m \u001b[0magent_id\u001b[0m \u001b[0;34m=\u001b[0m \u001b[0msls\u001b[0m\u001b[0;34m.\u001b[0m\u001b[0mselect_action\u001b[0m\u001b[0;34m(\u001b[0m\u001b[0mself\u001b[0m\u001b[0;34m.\u001b[0m\u001b[0menvironment\u001b[0m\u001b[0;34m,\u001b[0m \u001b[0mself\u001b[0m\u001b[0;34m.\u001b[0m\u001b[0mselecting_policy\u001b[0m\u001b[0;34m)\u001b[0m\u001b[0;34m\u001b[0m\u001b[0;34m\u001b[0m\u001b[0m\n\u001b[0m\u001b[1;32m     74\u001b[0m         \u001b[0;32mif\u001b[0m \u001b[0magent_id\u001b[0m \u001b[0;34m==\u001b[0m \u001b[0mself\u001b[0m\u001b[0;34m.\u001b[0m\u001b[0mid\u001b[0m \u001b[0;32mor\u001b[0m \u001b[0mind_mode\u001b[0m\u001b[0;34m:\u001b[0m\u001b[0;34m\u001b[0m\u001b[0;34m\u001b[0m\u001b[0m\n\u001b[1;32m     75\u001b[0m             \u001b[0mself\u001b[0m\u001b[0;34m.\u001b[0m\u001b[0mselecting_history\u001b[0m\u001b[0;34m.\u001b[0m\u001b[0mappend\u001b[0m\u001b[0;34m(\u001b[0m\u001b[0mself\u001b[0m\u001b[0;34m.\u001b[0m\u001b[0mid\u001b[0m\u001b[0;34m)\u001b[0m\u001b[0;34m\u001b[0m\u001b[0;34m\u001b[0m\u001b[0m\n",
            "\u001b[0;31mAttributeError\u001b[0m: 'PreferenceBasedSocialAgent' object has no attribute 'selecting_policy'"
          ]
        }
      ]
    },
    {
      "cell_type": "code",
      "source": [],
      "metadata": {
        "id": "FAzTPk2Vw3VL"
      },
      "execution_count": null,
      "outputs": []
    }
  ],
  "metadata": {
    "colab": {
      "provenance": [],
      "collapsed_sections": [
        "DDAUQ9OOE00W",
        "11fHtdR3E5X_",
        "7vTZafAEE-8H",
        "syUMOjD4LRpi",
        "zTOmpSzeEpZG",
        "4XEXTLpjLleb",
        "TweQfzExrl2h",
        "6BJbW-zkPpy4",
        "dSXb24Vq6yif"
      ],
      "authorship_tag": "ABX9TyMtL3L6HiwxozP3OFmess0Q",
      "include_colab_link": true
    },
    "kernelspec": {
      "display_name": "Python 3",
      "name": "python3"
    },
    "language_info": {
      "name": "python"
    }
  },
  "nbformat": 4,
  "nbformat_minor": 0
}