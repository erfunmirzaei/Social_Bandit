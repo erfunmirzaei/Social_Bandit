{
  "cells": [
    {
      "cell_type": "markdown",
      "metadata": {
        "id": "view-in-github",
        "colab_type": "text"
      },
      "source": [
        "<a href=\"https://colab.research.google.com/github/erfunmirzaei/Social_Bandit/blob/main/Social_Bandit.ipynb\" target=\"_parent\"><img src=\"https://colab.research.google.com/assets/colab-badge.svg\" alt=\"Open In Colab\"/></a>"
      ]
    },
    {
      "cell_type": "code",
      "execution_count": null,
      "metadata": {
        "id": "fmxTbpiBG2w3"
      },
      "outputs": [],
      "source": [
        "import numpy as np\n",
        "import csv\n",
        "import json\n",
        "import matplotlib.pyplot as plt\n",
        "import random\n",
        "import gym\n",
        "from scipy.stats import t\n",
        "from statistics import mean\n",
        "from tqdm import tqdm"
      ]
    },
    {
      "cell_type": "code",
      "execution_count": null,
      "metadata": {
        "id": "XXGaCzywZb8N"
      },
      "outputs": [],
      "source": [
        "from google.colab import drive\n",
        "drive.mount('/content/drive')"
      ]
    },
    {
      "cell_type": "markdown",
      "metadata": {
        "id": "73ZyrJoSEr0j"
      },
      "source": [
        "# Implementations"
      ]
    },
    {
      "cell_type": "markdown",
      "metadata": {
        "id": "DDAUQ9OOE00W"
      },
      "source": [
        "## Rewards"
      ]
    },
    {
      "cell_type": "code",
      "execution_count": null,
      "metadata": {
        "id": "JcicFR7yDweH"
      },
      "outputs": [],
      "source": [
        "class MultinomialReward():\n",
        "    def __init__(self, rewards, probs):\n",
        "        self.rewards = rewards\n",
        "        self.probs = probs\n",
        "        self.mean = np.array(probs) @ np.array(rewards)        \n",
        "\n",
        "    def get_reward(self, t):\n",
        "        return random.choices(self.rewards, weights = self.probs, k = 1)[0]"
      ]
    },
    {
      "cell_type": "code",
      "execution_count": null,
      "metadata": {
        "id": "ou6K5LJuDweI"
      },
      "outputs": [],
      "source": [
        "class DeteriministicReward():\n",
        "    def __init__(self, reward):\n",
        "        self.reward = reward\n",
        "        self.mean = reward\n",
        "        \n",
        "    def get_reward(self, t):\n",
        "        return self.reward"
      ]
    },
    {
      "cell_type": "code",
      "execution_count": null,
      "metadata": {
        "id": "nwIgeTb0DweJ"
      },
      "outputs": [],
      "source": [
        "class GaussianReward():\n",
        "    def __init__(self, mean, std):\n",
        "        self.mean = mean\n",
        "        self.std = std\n",
        "\n",
        "    def get_reward(self, t):\n",
        "        return np.random.normal(loc=self.mean, scale=self.std)"
      ]
    },
    {
      "cell_type": "code",
      "execution_count": null,
      "metadata": {
        "id": "eliQKoxtDweJ"
      },
      "outputs": [],
      "source": [
        "class Students_t_distReward():\n",
        "    def __init__(self,dof, mean, std):\n",
        "        self.dof = dof\n",
        "        self.mean = mean\n",
        "        self.std = std\n",
        "\n",
        "    def get_reward(self, t):\n",
        "        return t.rvs(df = self.dof, loc=self.mean, scale=self.std)"
      ]
    },
    {
      "cell_type": "code",
      "execution_count": null,
      "metadata": {
        "id": "OqY-W0PZMG1d"
      },
      "outputs": [],
      "source": [
        "class MultinomialReward_NonStationary():\n",
        "    def __init__(self, rewards, probs, switch_t):\n",
        "        self.rewards = rewards\n",
        "        self.probs = probs\n",
        "        self.mean = np.array(probs) @ np.array(rewards)  \n",
        "        self.switch_t = switch_t\n",
        "\n",
        "    def get_reward(self, t):\n",
        "        if t < self.switch_t:\n",
        "            return random.choices(self.rewards, weights = self.probs, k = 1)[0]\n",
        "        \n",
        "        else:\n",
        "            return random.choices(self.rewards[::-1], weights = self.probs, k = 1)[0]"
      ]
    },
    {
      "cell_type": "markdown",
      "metadata": {
        "id": "11fHtdR3E5X_"
      },
      "source": [
        "## N-Armed Bandit Environments"
      ]
    },
    {
      "cell_type": "code",
      "execution_count": null,
      "metadata": {
        "id": "LHflIod8DweK"
      },
      "outputs": [],
      "source": [
        "class MutliArmedBanditEnvironment():\n",
        "    def __init__(self, rewards, episode_max_length, id, container=None):\n",
        "        state_space = gym.spaces.Discrete(1)\n",
        "        action_space = gym.spaces.Discrete(len(rewards))\n",
        "\n",
        "        self.action_space = action_space\n",
        "        self.observation_space = state_space\n",
        "        self.state = None\n",
        "        self.id = id\n",
        "        self.agents = {}\n",
        "        \n",
        "        if container != None:\n",
        "            container.register_environment(self)\n",
        "        self.arms_rewards = rewards # consits all rewards method\n",
        "        self.episode_max_length = episode_max_length\n",
        "        self.state = {\n",
        "            'length': 0,\n",
        "            'last_action': None\n",
        "        }\n",
        "\n",
        "    def add_agent(self, agent_id):\n",
        "        self.agents_last_choice[agent_id] = -1 \n",
        "        \n",
        "    def calculate_reward(self, action):\n",
        "        return self.arms_rewards[action].get_reward(self.state['length'])\n",
        "\n",
        "    def terminated(self):\n",
        "        return self.state['length'] >= self.episode_max_length\n",
        "\n",
        "    def observe(self):\n",
        "        return {}\n",
        "\n",
        "    def n_actions(self):\n",
        "        return self.action_space.n\n",
        "\n",
        "    def next_state(self, action):\n",
        "        self.state['length'] += 1\n",
        "        self.state['last_action'] = action\n",
        "    \n",
        "    def get_info(self):\n",
        "        return {} \n",
        "\n",
        "    def update_selected(self, action, agent_id):\n",
        "        if agent_id == -1:\n",
        "            return\n",
        "        self.agents_last_choice[agent_id] = action\n",
        "\n",
        "    def step(self, action, agent_id):\n",
        "        reward = self.calculate_reward(action)\n",
        "        observation = self.observe()\n",
        "        info = self.get_info()\n",
        "        self.next_state(action)\n",
        "        done = self.terminated()\n",
        "        self.update_selected(action, agent_id) #agent_id == -1 ==> do nothing\n",
        "        return observation, reward, done, info\n",
        "\n",
        "    def reset(self):\n",
        "        self.state['length'] = 0\n",
        "        self.state['last_action'] = None\n",
        "\n",
        "    def render(self, mode='human'):\n",
        "        print('{}:\\taction={}'.format(self.state['length'], self.state['last_action']))\n",
        "\n",
        "    def close(self):\n",
        "        return"
      ]
    },
    {
      "cell_type": "code",
      "execution_count": null,
      "metadata": {
        "id": "qAQ_lcEVUjfk"
      },
      "outputs": [],
      "source": [
        "class SocialMutliArmedBanditEnvironment():\n",
        "    def __init__(self, rewards, episode_max_length, container = None):\n",
        "        state_space = gym.spaces.Discrete(1)\n",
        "        action_space = gym.spaces.Discrete(len(rewards))\n",
        "\n",
        "        self.action_space = action_space\n",
        "        self.observation_space = state_space\n",
        "        \n",
        "        if container != None:\n",
        "            container.register_environment(self)\n",
        "\n",
        "        self.arms_rewards = rewards\n",
        "        self.agents_last_choice = {}\n",
        "        self.episode_max_length = episode_max_length\n",
        "        # self.optimal_action = np.argmax(R_mean)\n",
        "\n",
        "        self.state = {\n",
        "            'length': 0,\n",
        "            'last_action': None\n",
        "        }\n",
        "    \n",
        "    def add_agent(self, agent_id):\n",
        "        self.agents_last_choice[agent_id] = -1 \n",
        "     \n",
        "    def calculate_reward(self, action):\n",
        "        return self.arms_rewards[action].get_reward(self.state['length'])\n",
        "    \n",
        "    def update_selected(self, action, agent_id):\n",
        "        if agent_id == -1:\n",
        "            return\n",
        "        self.agents_last_choice[agent_id] = action\n",
        "        \n",
        "    def step(self, action, agent_id):\n",
        "        reward = self.calculate_reward(action)\n",
        "        observation = self.observe()\n",
        "        info = self.get_info()\n",
        "        self.next_state(action)\n",
        "        done = self.terminated()\n",
        "        self.update_selected(action, agent_id) #agent_id == -1 ==> do nothing\n",
        "        return observation, reward, done, info\n",
        "    \n",
        "    def terminated(self):\n",
        "        return self.state['length'] >= self.episode_max_length\n",
        "\n",
        "    def observe(self):\n",
        "        return {}\n",
        "    \n",
        "    def n_actions(self):\n",
        "        return self.action_space.n\n",
        "\n",
        "    def next_state(self, action):\n",
        "        self.state['length'] += 1\n",
        "        self.state['last_action'] = action\n",
        "    \n",
        "    def get_info(self):\n",
        "        return {} \n",
        "\n",
        "    def config(self):\n",
        "        self.agents_last_choice = []\n",
        "    \n",
        "    def reset(self):\n",
        "        self.state['length'] = 0\n",
        "        self.state['last_action'] = None\n",
        "\n",
        "    def render(self, mode='human'):\n",
        "        print('{}:\\taction={}'.format(self.state['length'], self.state['last_action']))\n",
        "\n",
        "    def close(self):\n",
        "        return"
      ]
    },
    {
      "cell_type": "markdown",
      "metadata": {
        "id": "7vTZafAEE-8H"
      },
      "source": [
        "# Agents "
      ]
    },
    {
      "cell_type": "markdown",
      "source": [
        "## Learner Agents"
      ],
      "metadata": {
        "id": "syUMOjD4LRpi"
      }
    },
    {
      "cell_type": "code",
      "execution_count": null,
      "metadata": {
        "id": "5JLeNiNNDweL"
      },
      "outputs": [],
      "source": [
        "from abc import ABC, abstractmethod\n",
        "\n",
        "class AgentBase:\n",
        "    def __init__(self, id, environment=None):\n",
        "        self.id = id\n",
        "        self.environment = environment\n",
        "        self.environment.add_agent(id)\n",
        "\n",
        "    def set_environment(self, env):\n",
        "        self.environment = env\n",
        "\n",
        "    @abstractmethod\n",
        "    def take_action(self) -> (object, float, bool, object):\n",
        "        # in this method, you MUST call the `step` method of \n",
        "        # the environment and observe the results and return them like:\n",
        "        # return observation, reward, done, info\n",
        "        pass\n",
        "    \n",
        "    def utility_function(self,reward):\n",
        "        if reward >= 0 :\n",
        "            u = reward ** self.alpha\n",
        "        else:\n",
        "            u =  -1 * self.gamma * ((-reward)** self.beta)\n",
        "        return u "
      ]
    },
    {
      "cell_type": "code",
      "execution_count": null,
      "metadata": {
        "id": "7HYwd6-7DweL"
      },
      "outputs": [],
      "source": [
        "import numpy as np\n",
        "#Add Temperature\n",
        "\n",
        "class EpsilonGreedyAgent(AgentBase): \n",
        "    def __init__(self, id, environment, epsilon = 0.1,epsilon_decay = 1,lr = None,lr_decay = 1,alpha = 1,beta = 1,gamma = 1,optimistic = False):\n",
        "        super(EpsilonGreedyAgent, self).__init__(id, environment)\n",
        "        n_actions = self.environment.n_actions()\n",
        "        self.epsilon = epsilon\n",
        "        self.epsilon_decay = epsilon_decay\n",
        "        self.lr = lr\n",
        "        self.lr_decay = lr_decay\n",
        "        self.alpha = alpha\n",
        "        self.beta = beta \n",
        "        self.gamma = gamma\n",
        "        self.Q = np.zeros((n_actions,1))     #action value fuction\n",
        "        self.N = np.zeros((n_actions,1))     #number of doing an action \n",
        "\n",
        "    def get_number_actions(self):\n",
        "        return self.N\n",
        "\n",
        "    def update(self,action,utility):\n",
        "        self.epsilon = self.epsilon * self.epsilon_decay\n",
        "        self.N[action] += 1\n",
        "        if self.lr is not None:\n",
        "            self.Q[action] += (utility - self.Q[action]) * self.lr\n",
        "            self.lr = self.lr * self.lr_decay \n",
        "        else:\n",
        "            self.Q[action] += (utility - self.Q[action])/self.N[action] \n",
        "\n",
        "    def select_action(self):\n",
        "        n_actions = self.environment.n_actions()\n",
        "        rand = np.random.rand()\n",
        "        if rand < self.epsilon:\n",
        "            action = np.random.choice(n_actions)\n",
        "        else:\n",
        "            action = np.argmax(self.Q)\n",
        "        \n",
        "        return action\n",
        "\n",
        "    def take_action(self) -> (object, float, bool, object):\n",
        "        action = self.select_action()\n",
        "        obs, r, d, i = self.environment.step(action, self.id)\n",
        "        u = self.utility_function(r)\n",
        "        self.update(action,u)\n",
        "        \n",
        "        return r, action , u\n",
        "\n",
        "    def get_Q(self):\n",
        "        return self.Q"
      ]
    },
    {
      "cell_type": "code",
      "execution_count": null,
      "metadata": {
        "id": "VZYTv8J3VAMO"
      },
      "outputs": [],
      "source": [
        "import numpy as np\n",
        "\n",
        "class UCBAgent(AgentBase):\n",
        "    def __init__(self, id, environment, c, lr = None, lr_decay = 1,alpha = 1,beta = 1,gamma = 1):\n",
        "        super(UCBAgent, self).__init__(id, environment)\n",
        "        n_actions = self.environment.n_actions()\n",
        "        self.c = c\n",
        "        self.lr = lr\n",
        "        self.lr_decay = lr_decay\n",
        "        self.alpha = alpha\n",
        "        self.beta = beta \n",
        "        self.gamma = gamma\n",
        "        self.Q = np.zeros((n_actions,1))                 #action value function(expected reward) for each arm\n",
        "        self.N = np.zeros((n_actions,1))                 #number of doing each arm\n",
        "        self.trial = 0                                          #number of total trials \n",
        "        self.UCB = np.inf * np.ones((n_actions,1))      #Upper confidence bound for each arm\n",
        "        \n",
        "    def select_action(self):        \n",
        "        action = np.random.choice(np.flatnonzero(self.UCB == self.UCB.max()))\n",
        "        return action \n",
        "\n",
        "    def update(self, action, u):        \n",
        "        # update action values\n",
        "        self.trial += 1\n",
        "        self.N[action] = self.N[action] + 1\n",
        "        if self.lr is not None:\n",
        "            self.Q[action] += self.lr*(u-self.Q[action])\n",
        "            self.lr = self.lr * self.lr_decay\n",
        "        else:\n",
        "            self.Q[action] += (u-self.Q[action]) / self.N[action]\n",
        "\n",
        "        self.UCB = self.Q + self.c * np.sqrt(np.log(self.trial)/(self.N + 1e-9))\n",
        "\n",
        "        \n",
        "    def take_action(self) -> (object, float, bool, object):\n",
        "        action = self.select_action()\n",
        "        obs, r, d, i = self.environment.step(action, self.id)\n",
        "        u = self.utility_function(r)\n",
        "        self.update(action, u)\n",
        "        return r, action, u"
      ]
    },
    {
      "cell_type": "code",
      "execution_count": null,
      "metadata": {
        "id": "38CnYMSoByxk"
      },
      "outputs": [],
      "source": [
        "import numpy as np\n",
        "\n",
        "class GradientBanditAgent(AgentBase): \n",
        "    def __init__(self, id, environment, lr = 0.1,lr_decay = 1,alpha = 1,beta = 1,gamma = 1,optimistic = False, Baseline_lr = None):\n",
        "        super(GradientBanditAgent, self).__init__(id, environment)\n",
        "        n_actions = self.environment.n_actions()\n",
        "        self.lr = lr\n",
        "        self.lr_decay = lr_decay\n",
        "        self.R_lr = Baseline_lr\n",
        "        self.alpha = alpha\n",
        "        self.beta = beta \n",
        "        self.gamma = gamma\n",
        "        self.avg_rew = 0   \n",
        "        self.N = 0      \n",
        "        self.H = np.zeros((n_actions))\n",
        "        self.P = (1/n_actions)*np.ones((n_actions))\n",
        "\n",
        "    def update(self,action,utility):\n",
        "        self.lr = self.lr * self.lr_decay\n",
        "        self.N += 1\n",
        "        if self.R_lr is not None:\n",
        "            self.avg_rew += (utility - self.avg_rew) * self.R_lr\n",
        "        else:\n",
        "            self.avg_rew += (utility - self.avg_rew)/self.N\n",
        "\n",
        "        for i in range(len(self.H)):\n",
        "            if i == action :\n",
        "                self.H[i] += self.lr *(utility - self.avg_rew)*(1-self.P[i])\n",
        "\n",
        "            else:\n",
        "                self.H[i] -=  self.lr *(utility - self.avg_rew)*(self.P[i])\n",
        "\n",
        "        for i in range(len(self.P)):\n",
        "            self.P[i] = np.exp(self.H[i]) / np.sum(np.exp(self.H))\n",
        "\n",
        "    def get_all(self):\n",
        "        return self.H,self.P\n",
        "\n",
        "    def select_action(self):\n",
        "        n_actions = self.environment.n_actions()\n",
        "        action = int(np.random.choice(list(range(n_actions)), size=1,p=self.P))       \n",
        "        return action \n",
        "\n",
        "    def take_action(self) -> (object, float, bool, object):\n",
        "        action = self.select_action()\n",
        "        obs, r, d, i = self.environment.step(action, self.id)\n",
        "        #print(obs, r, d, i)\n",
        "        u = self.utility_function(r)\n",
        "        self.update(action,u)\n",
        "        #self.environment.render()\n",
        "        return r, action , u\n"
      ]
    },
    {
      "cell_type": "code",
      "execution_count": null,
      "metadata": {
        "id": "1HNl0mID_YrT"
      },
      "outputs": [],
      "source": [
        "import numpy as np\n",
        "\n",
        "class ActorCriticAgent(AgentBase): \n",
        "    def __init__(self, id, environment, lr = 0.1,lr_decay = 1,alpha = 1,beta = 1,gamma = 1,optimistic = False):\n",
        "        super(ActorCriticAgent, self).__init__(id, environment)\n",
        "        n_actions = self.environment.n_actions()\n",
        "        self.lr = lr\n",
        "        self.lr_decay = lr_decay\n",
        "        self.alpha = alpha\n",
        "        self.beta = beta \n",
        "        self.gamma = gamma\n",
        "        self.N = 0      \n",
        "        self.Q = np.zeros((n_actions))     #action value fuction\n",
        "        self.H = np.zeros((n_actions))\n",
        "        self.P = (1/n_actions)*np.ones((n_actions))\n",
        "\n",
        "    def update(self,action,utility):\n",
        "        self.lr = self.lr * self.lr_decay\n",
        "        self.N += 1\n",
        "        if self.lr is not None:\n",
        "            self.Q[action] += (utility - self.Q[action]) * self.lr\n",
        "            self.lr = self.lr * self.lr_decay \n",
        "        else:\n",
        "            self.Q[action] += (utility - self.Q[action])/self.N[action] \n",
        "\n",
        "        for i in range(len(self.H)):\n",
        "            if i == action :\n",
        "                self.H[i] += self.lr *(utility - self.Q[i])*(1-self.P[i])\n",
        "\n",
        "            else:\n",
        "                self.H[i] -=  self.lr *(utility - self.Q[i])*(self.P[i])\n",
        "\n",
        "        for i in range(len(self.P)):\n",
        "            self.P[i] = np.exp(self.H[i]) / np.sum(np.exp(self.H))\n",
        "\n",
        "    def get_all(self):\n",
        "        return self.H,self.P\n",
        "\n",
        "    def select_action(self):\n",
        "        n_actions = self.environment.n_actions()\n",
        "        action = int(np.random.choice(list(range(n_actions)), size=1,p=self.P))  \n",
        "        return action\n",
        "\n",
        "    def take_action(self) -> (object, float, bool, object):\n",
        "        action = self.select_action()\n",
        "        obs, r, d, i = self.environment.step(action, self.id)\n",
        "        #print(obs, r, d, i)\n",
        "        u = self.utility_function(r)\n",
        "        self.update(action,u)\n",
        "        #self.environment.render()\n",
        "        return r, action , u"
      ]
    },
    {
      "cell_type": "code",
      "execution_count": null,
      "metadata": {
        "id": "ej-BOALdDr4Y"
      },
      "outputs": [],
      "source": [
        "import numpy as np\n",
        "from math import sqrt\n",
        "\n",
        "class ThompsonSamplingAgent(AgentBase):\n",
        "    def __init__(self, id, environment, alpha = 1,beta = 1,gamma = 1):\n",
        "        super(ThompsonSamplingAgent, self).__init__(id, environment)\n",
        "        n_actions = self.environment.n_actions()\n",
        "        self.alpha = alpha\n",
        "        self.beta = beta \n",
        "        self.gamma = gamma\n",
        "        self.stds = list(1000000000 * np.ones((n_actions,1)))  #stds of estimated gaussian distributions\n",
        "        self.means = list( np.zeros((n_actions,1)))            #means of estimated gaussian distributions\n",
        "\n",
        "    def get_samples(self,means,stds):\n",
        "        samples = [np.random.normal(means[i],stds[i]) for i in range(len(means))]\n",
        "        return samples\n",
        "\n",
        "    def update(self,reward,action):\n",
        "        new_std = sqrt( 1 / ((1/self.stds[action]**2) + 1) )\n",
        "        new_mean = (reward + (self.means[action] / self.stds[action] ** 2)) / ((1/self.stds[action]**2) + 1) \n",
        "        return new_mean, new_std\n",
        "    \n",
        "    def select_action(self):\n",
        "        samples = self.get_samples(self.means,self.stds)\n",
        "        action = np.argmax(samples)\n",
        "        return action \n",
        "\n",
        "    def take_action(self):# -> (object, float, bool, object):\n",
        "        action = self.select_action()\n",
        "        obs, r, d, i = self.environment.step(action, self.id)\n",
        "        u = self.utility_function(r)\n",
        "        self.means[action], self.stds[action] = self.update(u,action)\n",
        "        #print(obs, r, d, i)\n",
        "        #self.environment.render()\n",
        "        return r,action, u"
      ]
    },
    {
      "cell_type": "markdown",
      "metadata": {
        "id": "zTOmpSzeEpZG"
      },
      "source": [
        "## Coded Agents:"
      ]
    },
    {
      "cell_type": "code",
      "execution_count": null,
      "metadata": {
        "id": "bp8MRB72EpZH"
      },
      "outputs": [],
      "source": [
        "class AlwaysBestAgent(AgentBase):\n",
        "    def __init__(self,id, environment, alpha = 1,beta = 1,gamma = 1):\n",
        "        super(AlwaysBestAgent, self).__init__(id, environment)\n",
        "        self.alpha = alpha\n",
        "        self.beta = beta \n",
        "        self.gamma = gamma\n",
        "        self.EU = np.array([self.utility_function(r.mean) for r in self.environment.arms_rewards])\n",
        "        self.bestaction = np.random.choice(np.flatnonzero(self.EU == self.EU.max()))\n",
        "        # self.regret = []\n",
        "        \n",
        "    def take_action(self):\n",
        "        obs, r, d, i = self.environment.step(self.bestaction, self.id)\n",
        "        #self.r = self.r + self.environment.rewards[np.argmax([r.m for r in self.environment.rewards])].m - self.environment.rewards[indx].mean\n",
        "        #self.regret.append(self.r)\n",
        "        return r, self.bestaction, self.utility_function(r)\n",
        "\n",
        "    \n",
        "class PercentBestAgent(AgentBase):\n",
        "    def __init__(self, id, environment, p, alpha = 1,beta = 1,gamma = 1, increase = 0, limit = 1, zero_at = False):\n",
        "        super(PercentBestAgent, self).__init__(id, environment)\n",
        "        self.alpha = alpha\n",
        "        self.beta = beta \n",
        "        self.gamma = gamma\n",
        "        self.p = p\n",
        "        self.increase = increase\n",
        "        self.zero_at = zero_at\n",
        "        self.limit = limit\n",
        "        self.EU = np.array([self.utility_function(r.mean) for r in self.environment.arms_rewards])\n",
        "        self.bestaction = np.random.choice(np.flatnonzero(self.EU == self.EU.max()))\n",
        "        self.n_actions = self.environment.n_actions()\n",
        "        # self.regret = []\n",
        "        \n",
        "        \n",
        "    def take_action(self):\n",
        "        if np.random.rand() < self.p:\n",
        "            action = self.bestaction\n",
        "        else:\n",
        "            action = np.random.choice(self.n_actions)\n",
        "        \n",
        "        obs, r, d, i = self.environment.step(action, self.id)\n",
        "\n",
        "        #self.r = self.r + self.environment.rewards[np.argmax([r.m for r in self.environment.rewards])].m - self.environment.rewards[indx].m\n",
        "        #self.regret.append(self.r)\n",
        "\n",
        "        self.p = self.p + self.increase\n",
        "        if self.p > self.limit:\n",
        "            self.p = self.limit\n",
        "            self.increase = 0\n",
        "            \n",
        "        if self.zero_at:\n",
        "            if self.p > 1:\n",
        "                self.p = 0\n",
        "                self.increase = 0\n",
        "        return r, action, self.utility_function(r)\n",
        "    \n",
        "class SecondBestAgent(AgentBase):\n",
        "    def __init__(self,id, environment, alpha = 1,beta = 1,gamma = 1):\n",
        "        super(SecondBestAgent, self).__init__(id, environment)\n",
        "        self.alpha = alpha\n",
        "        self.beta = beta \n",
        "        self.gamma = gamma\n",
        "        self.EU = np.array([self.utility_function(r.mean) for r in self.environment.arms_rewards])\n",
        "        SecondEU = np.array([x for x in self.EU if x < max(self.EU)])\n",
        "        self.secondbestaction = np.random.choice(np.flatnonzero(self.EU == SecondEU.max()))\n",
        "        # self.regret = []\n",
        "\n",
        "    def take_action(self):\n",
        "        obs, r, d, i = self.environment.step(self.secondbestaction, self.id)\n",
        "        return r, self.secondbestaction, self.utility_function(r)\n",
        "    \n",
        "class AlwaysWorstAgent(AgentBase):\n",
        "    def __init__(self,id, environment, alpha = 1,beta = 1,gamma = 1):\n",
        "        super(AlwaysWorstAgent, self).__init__(id, environment)\n",
        "        self.alpha = alpha\n",
        "        self.beta = beta \n",
        "        self.gamma = gamma\n",
        "        self.EU = np.array([self.utility_function(r.mean) for r in self.environment.arms_rewards])\n",
        "        self.worstaction = np.random.choice(np.flatnonzero(self.EU == self.EU.min()))\n",
        "        # self.regret = []\n",
        "        \n",
        "    def take_action(self):\n",
        "        obs, r, d, i = self.environment.step(self.worstaction, self.id)\n",
        "        return r, self.worstaction, self.utility_function(r)\n",
        "    \n",
        "    def utility_function(self,reward):\n",
        "        if reward >= 0 :\n",
        "            u = reward ** self.alpha\n",
        "        else:\n",
        "            u =  -1 * self.gamma * ((-reward)** self.beta)\n",
        "        return u \n",
        "        \n",
        "class AlwaysRandomAgent(AgentBase):\n",
        "    def __init__(self,id, environment, alpha = 1,beta = 1,gamma = 1):\n",
        "        super(AlwaysRandomAgent, self).__init__(id, environment)\n",
        "        self.alpha = alpha\n",
        "        self.beta = beta \n",
        "        self.gamma = gamma\n",
        "        self.n_actions = self.environment.n_actions()\n",
        "        # self.regret = []\n",
        "\n",
        "    def take_action(self):\n",
        "        action = np.random.choice(self.n_actions)\n",
        "        obs, r, d, i = self.environment.step(action, self.id)\n",
        "        return r, action, self.utility_function(r)"
      ]
    },
    {
      "cell_type": "markdown",
      "source": [
        "## Test"
      ],
      "metadata": {
        "id": "4XEXTLpjLleb"
      }
    },
    {
      "cell_type": "markdown",
      "source": [
        "### Test1_Learner Agents "
      ],
      "metadata": {
        "id": "TweQfzExrl2h"
      }
    },
    {
      "cell_type": "code",
      "source": [
        "Multinomial_Rewards = {  '2arm_Hard' : [MultinomialReward_NonStationary([1,0],[0.9,0.1], switch_t = 1000),\n",
        "                                        MultinomialReward_NonStationary([1,0],[0.8,0.2], switch_t = 1000)] ,\n",
        "                       \n",
        "                         '2arm_Med'  : [MultinomialReward_NonStationary([1,0],[0.9,0.1], switch_t = 1000),\n",
        "                                        MultinomialReward_NonStationary([1,0],[0.5,0.5], switch_t = 1000)],\n",
        "                       \n",
        "                         '2arm_Easy' : [MultinomialReward_NonStationary([1,0],[0.9,0.1], switch_t = 1000),\n",
        "                                        MultinomialReward_NonStationary([1,0],[0.1,0.9], switch_t = 1000)]} "
      ],
      "metadata": {
        "id": "PMq15arWraXL"
      },
      "execution_count": null,
      "outputs": []
    },
    {
      "cell_type": "code",
      "source": [
        "env = SocialMutliArmedBanditEnvironment(Multinomial_Rewards['2arm_Easy'], 10000)"
      ],
      "metadata": {
        "id": "uyTbvX0YrbYn"
      },
      "execution_count": null,
      "outputs": []
    },
    {
      "cell_type": "code",
      "source": [
        "fig, ax = plt.subplots()\n",
        "ax.plot(range(10000), np.array([0.9] * 1000 + [0.1] * 9000), 'b')\n",
        "ax.plot(range(10000), np.array([0.1] * 1000 + [0.9] * 9000),'r')\n",
        "\n",
        "ax.set_ylabel('True Mean Reward',rotation = 90)\n",
        "ax.set_xlabel('Steps')\n",
        "ax.legend([\"arm 1\", \"arm 2\"])\n",
        "plt.show()"
      ],
      "metadata": {
        "id": "b-DNurXrro9K"
      },
      "execution_count": null,
      "outputs": []
    },
    {
      "cell_type": "code",
      "source": [
        "env.reset()\n",
        "regret1 = np.zeros((10000,50))\n",
        "perc_opt_act1 = np.zeros((10000,50))\n",
        "average_rewards1 = np.zeros((10000,50))\n",
        "\n",
        "for r in tqdm(range(50)):\n",
        "    sum_rewards = 0\n",
        "    opt_act_count = 0\n",
        "    exp_opt_act = 0.9    \n",
        "    agent1 = EpsilonGreedyAgent('1', env, epsilon = 0.1, lr = 0.1)\n",
        "    \n",
        "    for t in range(10000):\n",
        "        rew , act, _ = agent1.take_action()\n",
        "\n",
        "        sum_rewards += rew\n",
        "        \n",
        "        if t < 1000:\n",
        "            opt_act_count += int(act == 0)\n",
        "            regret1[t,r] = (t+1)*exp_opt_act - sum_rewards\n",
        "\n",
        "        else :\n",
        "            opt_act_count += int(act == 1)\n",
        "            exp_opt_act = 0.9\n",
        "            regret1[t,r] = 1000 * 0.9 + (t+1 - 1000)*exp_opt_act - sum_rewards\n",
        "\n",
        "        perc_opt_act1[t,r] = opt_act_count / (t+1)\n",
        "        average_rewards1[t,r] = sum_rewards / (t+1)\n",
        "\n",
        "    env.reset()"
      ],
      "metadata": {
        "id": "x6JlebW2rxr1"
      },
      "execution_count": null,
      "outputs": []
    },
    {
      "cell_type": "code",
      "source": [
        "env.reset()\n",
        "regret2 = np.zeros((10000,50))\n",
        "perc_opt_act2 = np.zeros((10000,50))\n",
        "average_rewards2 = np.zeros((10000,50))\n",
        "\n",
        "for r in tqdm(range(50)):\n",
        "    exp_opt_act = 0.9\n",
        "    sum_rewards = 0\n",
        "    opt_act_count = 0\n",
        "    \n",
        "    agent2 = UCBAgent('1', env, c =2, lr = 0.1)\n",
        "    # agent2 = UCBBanditAgent('1',env, c = 2, lr = 0.1)\n",
        "    \n",
        "    for t in range(10000):\n",
        "        rew , act, _ = agent2.take_action()\n",
        "        \n",
        "        sum_rewards += rew\n",
        "        \n",
        "        if t < 1000:\n",
        "            opt_act_count += int(act == 0)\n",
        "            regret2[t,r] = (t+1)*exp_opt_act - sum_rewards\n",
        "\n",
        "        else:\n",
        "            opt_act_count += int(act == 1)\n",
        "            exp_opt_act = 0.9\n",
        "            regret2[t,r] = 1000 * 0.9 + (t+1 - 1000)*exp_opt_act - sum_rewards\n",
        "\n",
        "        perc_opt_act2[t,r] = opt_act_count / (t+1)\n",
        "        average_rewards2[t,r] = sum_rewards / (t+1)\n",
        "\n",
        "    env.reset()"
      ],
      "metadata": {
        "id": "5Tt4RIQsr3FT"
      },
      "execution_count": null,
      "outputs": []
    },
    {
      "cell_type": "code",
      "source": [
        "env.reset()\n",
        "regret3 = np.zeros((10000,50))\n",
        "perc_opt_act3 = np.zeros((10000,50))\n",
        "average_rewards3 = np.zeros((10000,50))\n",
        "\n",
        "for r in tqdm(range(50)):\n",
        "    sum_rewards = 0\n",
        "    opt_act_count = 0\n",
        "    exp_opt_act = 0.9\n",
        "\n",
        "    agent3 = ThompsonSamplingAgent('1', env)\n",
        "    \n",
        "    for t in range(10000):\n",
        "        rew , act, _ = agent3.take_action()\n",
        "        \n",
        "        sum_rewards += rew\n",
        "        \n",
        "        if t < 1000:\n",
        "            opt_act_count += int(act == 0)\n",
        "            regret3[t,r] = (t+1)*exp_opt_act - sum_rewards\n",
        "\n",
        "        else :\n",
        "            opt_act_count += int(act == 1)\n",
        "            exp_opt_act = 0.9\n",
        "            regret3[t,r] = 1000 * 0.9 + (t+1 - 1000)*exp_opt_act - sum_rewards\n",
        "\n",
        "        perc_opt_act3[t,r] = opt_act_count / (t+1)\n",
        "        average_rewards3[t,r] = sum_rewards / (t+1)\n",
        "\n",
        "    env.reset()"
      ],
      "metadata": {
        "id": "JFw-LTu9OBfj"
      },
      "execution_count": null,
      "outputs": []
    },
    {
      "cell_type": "code",
      "source": [
        "env.reset()\n",
        "regret4 = np.zeros((10000,50))\n",
        "perc_opt_act4 = np.zeros((10000,50))\n",
        "average_rewards4 = np.zeros((10000,50))\n",
        "\n",
        "for r in tqdm(range(50)):\n",
        "    sum_rewards = 0\n",
        "    opt_act_count = 0\n",
        "    exp_opt_act = 0.9\n",
        "    \n",
        "    agent4 = GradientBanditAgent('5', env)\n",
        "    \n",
        "    for t in range(10000):\n",
        "        rew , act, _ = agent4.take_action()\n",
        "        sum_rewards += rew\n",
        "        \n",
        "        if t < 1000:\n",
        "            opt_act_count += int(act == 0)\n",
        "            regret4[t,r] = (t+1)*exp_opt_act - sum_rewards\n",
        "        \n",
        "        else :\n",
        "            opt_act_count += int(act == 1)\n",
        "            exp_opt_act = 0.9\n",
        "            regret4[t,r] = 1000 * 0.9 + (t+1 - 1000)*exp_opt_act - sum_rewards\n",
        "\n",
        "        perc_opt_act4[t,r] = opt_act_count / (t+1)\n",
        "        average_rewards4[t,r] = sum_rewards / (t+1)\n",
        "\n",
        "    env.reset()"
      ],
      "metadata": {
        "id": "N7b2NhoAONKy"
      },
      "execution_count": null,
      "outputs": []
    },
    {
      "cell_type": "code",
      "source": [
        "\n",
        "env.reset()\n",
        "regret5 = np.zeros((10000,50))\n",
        "perc_opt_act5 = np.zeros((10000,50))\n",
        "average_rewards5 = np.zeros((10000,50))\n",
        "\n",
        "for r in tqdm(range(50)):\n",
        "    exp_opt_act = 0.9\n",
        "    sum_rewards = 0\n",
        "    opt_act_count = 0\n",
        "\n",
        "    agent5 = ActorCriticAgent('1', env, lr = 0.1)\n",
        "\n",
        "    # agent4 = gradientAgent('1',env, alpha = 0.1, Baseline_lr = 0.01)\n",
        "    for t in range(10000):\n",
        "        rew , act, _ = agent5.take_action()\n",
        "        \n",
        "        sum_rewards += rew\n",
        "        \n",
        "        if t < 1000:\n",
        "            opt_act_count += int(act == 0)\n",
        "            regret5[t,r] = (t+1)*exp_opt_act - sum_rewards\n",
        "        \n",
        "        else :\n",
        "            opt_act_count += int(act == 1)\n",
        "            exp_opt_act = 0.9\n",
        "            regret5[t,r] = 1000 * 0.9 + (t+1 - 1000)*exp_opt_act - sum_rewards\n",
        "\n",
        "        perc_opt_act5[t,r] = opt_act_count / (t+1)\n",
        "        average_rewards5[t,r] = sum_rewards / (t+1)\n",
        "\n",
        "    env.reset()"
      ],
      "metadata": {
        "id": "Dr59PDr1PRZP"
      },
      "execution_count": null,
      "outputs": []
    },
    {
      "cell_type": "code",
      "source": [
        "som1 = np.std(perc_opt_act1,axis = 1) / np.sqrt(perc_opt_act1.shape[1])\n",
        "mean1 = np.mean(perc_opt_act1,axis = 1)\n",
        "\n",
        "som2 = np.std(perc_opt_act2,axis = 1) / np.sqrt(perc_opt_act2.shape[1])\n",
        "mean2 = np.mean(perc_opt_act2,axis = 1)\n",
        "\n",
        "som3 = np.std(perc_opt_act3,axis = 1) / np.sqrt(perc_opt_act3.shape[1])\n",
        "mean3 = np.mean(perc_opt_act3,axis = 1)\n",
        "\n",
        "som4 = np.std(perc_opt_act4,axis = 1) / np.sqrt(perc_opt_act4.shape[1])\n",
        "mean4 = np.mean(perc_opt_act4,axis = 1)\n",
        "\n",
        "som5 = np.std(perc_opt_act5,axis = 1) / np.sqrt(perc_opt_act5.shape[1])\n",
        "mean5 = np.mean(perc_opt_act5,axis = 1)\n",
        "\n",
        "fig, ax = plt.subplots()\n",
        "ax.plot(range(10000), mean1, 'b')\n",
        "ax.fill_between(range(10000), (mean1-som1), (mean1+som1), color='b', alpha=.1)\n",
        "ax.plot(range(10000), mean2,'r')\n",
        "ax.fill_between(range(10000), (mean2-som2), (mean2+som2), color='r', alpha=.1)\n",
        "ax.plot(range(10000), mean3, 'g')\n",
        "ax.fill_between(range(10000), (mean3-som3), (mean3+som3), color='g', alpha=.1)\n",
        "ax.plot(range(10000), mean4, 'black')\n",
        "ax.fill_between(range(10000), (mean4-som4), (mean4+som4), color='black', alpha=.1)\n",
        "ax.plot(range(10000), mean5, 'gray')\n",
        "ax.fill_between(range(10000), (mean5-som5), (mean5+som5), color='gray', alpha=.1)\n",
        "ax.set_ylabel('% Optimal action',rotation = 90)\n",
        "ax.set_xlabel('Steps')\n",
        "ax.legend([\"Eps-greedy\", \"UCB\",\"Thompson\", \"Policy-gradient\", \"Actor-Critic\" ])\n",
        "plt.show()"
      ],
      "metadata": {
        "id": "BmFvZBbGPV85"
      },
      "execution_count": null,
      "outputs": []
    },
    {
      "cell_type": "markdown",
      "source": [
        "### Test2_Coded Agents"
      ],
      "metadata": {
        "id": "6BJbW-zkPpy4"
      }
    },
    {
      "cell_type": "code",
      "source": [
        "Multinomial_Rewards = {  '2arm_Hard' : [MultinomialReward_NonStationary([1,0],[0.9,0.1], switch_t = 9000),\n",
        "                                        MultinomialReward_NonStationary([1,0],[0.8,0.2], switch_t = 9000)] ,\n",
        "                       \n",
        "                         '2arm_Med'  : [MultinomialReward_NonStationary([1,0],[0.9,0.1], switch_t = 9000),\n",
        "                                        MultinomialReward_NonStationary([1,0],[0.5,0.5], switch_t = 9000)],\n",
        "                       \n",
        "                         '2arm_Easy' : [MultinomialReward_NonStationary([1,0],[0.9,0.1], switch_t = 9000),\n",
        "                                        MultinomialReward_NonStationary([1,0],[0.1,0.9], switch_t = 9000)]} "
      ],
      "metadata": {
        "id": "q51SZpupPySf"
      },
      "execution_count": null,
      "outputs": []
    },
    {
      "cell_type": "code",
      "source": [
        "env = SocialMutliArmedBanditEnvironment(Multinomial_Rewards['2arm_Easy'], 10000)"
      ],
      "metadata": {
        "id": "2nEDZRmJPySg"
      },
      "execution_count": null,
      "outputs": []
    },
    {
      "cell_type": "code",
      "source": [
        "fig, ax = plt.subplots()\n",
        "ax.plot(range(10000), np.array([0.9] * 9000 + [0.1] * 1000), 'b')\n",
        "ax.plot(range(10000), np.array([0.1] * 9000 + [0.9] * 1000),'r')\n",
        "\n",
        "ax.set_ylabel('True Mean Reward',rotation = 90)\n",
        "ax.set_xlabel('Steps')\n",
        "ax.legend([\"arm 1\", \"arm 2\"])\n",
        "plt.show()"
      ],
      "metadata": {
        "id": "nLLVx-6XPySh"
      },
      "execution_count": null,
      "outputs": []
    },
    {
      "cell_type": "code",
      "source": [
        "env.reset()\n",
        "regret1 = np.zeros((10000,50))\n",
        "perc_opt_act1 = np.zeros((10000,50))\n",
        "average_rewards1 = np.zeros((10000,50))\n",
        "\n",
        "for r in tqdm(range(50)):\n",
        "    sum_rewards = 0\n",
        "    opt_act_count = 0\n",
        "    exp_opt_act = 0.9    \n",
        "    agent1 = AlwaysBestAgent('1', env)\n",
        "    \n",
        "    for t in range(10000):\n",
        "        rew , act, _ = agent1.take_action()\n",
        "\n",
        "        sum_rewards += rew\n",
        "        \n",
        "        if t < 9000:\n",
        "            opt_act_count += int(act == 0)\n",
        "            regret1[t,r] = (t+1)*exp_opt_act - sum_rewards\n",
        "\n",
        "        else :\n",
        "            opt_act_count += int(act == 1)\n",
        "            exp_opt_act = 0.9\n",
        "            regret1[t,r] = 9000 * 0.9 + (t+1 - 9000)*exp_opt_act - sum_rewards\n",
        "\n",
        "        perc_opt_act1[t,r] = opt_act_count / (t+1)\n",
        "        average_rewards1[t,r] = sum_rewards / (t+1)\n",
        "\n",
        "    env.reset()"
      ],
      "metadata": {
        "id": "2hhYmOSlPySi"
      },
      "execution_count": null,
      "outputs": []
    },
    {
      "cell_type": "code",
      "source": [
        "env.reset()\n",
        "regret2 = np.zeros((10000,50))\n",
        "perc_opt_act2 = np.zeros((10000,50))\n",
        "average_rewards2 = np.zeros((10000,50))\n",
        "\n",
        "for r in tqdm(range(50)):\n",
        "    exp_opt_act = 0.9\n",
        "    sum_rewards = 0\n",
        "    opt_act_count = 0\n",
        "    \n",
        "    agent2 = PercentBestAgent('1', env, p = 0.8)\n",
        "    # agent2 = UCBBanditAgent('1',env, c = 2, lr = 0.1)\n",
        "    \n",
        "    for t in range(10000):\n",
        "        rew , act, _ = agent2.take_action()\n",
        "        \n",
        "        sum_rewards += rew\n",
        "        \n",
        "        if t < 9000:\n",
        "            opt_act_count += int(act == 0)\n",
        "            regret2[t,r] = (t+1)*exp_opt_act - sum_rewards\n",
        "\n",
        "        else:\n",
        "            opt_act_count += int(act == 1)\n",
        "            exp_opt_act = 0.9\n",
        "            regret2[t,r] = 9000 * 0.9 + (t+1 - 9000)*exp_opt_act - sum_rewards\n",
        "\n",
        "        perc_opt_act2[t,r] = opt_act_count / (t+1)\n",
        "        average_rewards2[t,r] = sum_rewards / (t+1)\n",
        "\n",
        "    env.reset()"
      ],
      "metadata": {
        "id": "XeyjShsvPySi"
      },
      "execution_count": null,
      "outputs": []
    },
    {
      "cell_type": "code",
      "source": [
        "env.reset()\n",
        "regret3 = np.zeros((10000,50))\n",
        "perc_opt_act3 = np.zeros((10000,50))\n",
        "average_rewards3 = np.zeros((10000,50))\n",
        "\n",
        "for r in tqdm(range(50)):\n",
        "    sum_rewards = 0\n",
        "    opt_act_count = 0\n",
        "    exp_opt_act = 0.9\n",
        "\n",
        "    agent3 = SecondBestAgent('1', env)\n",
        "    \n",
        "    for t in range(10000):\n",
        "        rew , act, _ = agent3.take_action()\n",
        "        \n",
        "        sum_rewards += rew\n",
        "        \n",
        "        if t < 9000:\n",
        "            opt_act_count += int(act == 0)\n",
        "            regret3[t,r] = (t+1)*exp_opt_act - sum_rewards\n",
        "\n",
        "        else :\n",
        "            opt_act_count += int(act == 1)\n",
        "            exp_opt_act = 0.9\n",
        "            regret3[t,r] = 9000 * 0.9 + (t+1 - 9000)*exp_opt_act - sum_rewards\n",
        "\n",
        "        perc_opt_act3[t,r] = opt_act_count / (t+1)\n",
        "        average_rewards3[t,r] = sum_rewards / (t+1)\n",
        "\n",
        "    env.reset()"
      ],
      "metadata": {
        "id": "4ABXTesHPySj"
      },
      "execution_count": null,
      "outputs": []
    },
    {
      "cell_type": "code",
      "source": [
        "env.reset()\n",
        "regret4 = np.zeros((10000,50))\n",
        "perc_opt_act4 = np.zeros((10000,50))\n",
        "average_rewards4 = np.zeros((10000,50))\n",
        "\n",
        "for r in tqdm(range(50)):\n",
        "    sum_rewards = 0\n",
        "    opt_act_count = 0\n",
        "    exp_opt_act = 0.9\n",
        "    \n",
        "    agent4 = AlwaysWorstAgent('4', env)\n",
        "    \n",
        "    for t in range(10000):\n",
        "        rew , act, _ = agent4.take_action()\n",
        "        sum_rewards += rew\n",
        "        \n",
        "        if t < 9000:\n",
        "            opt_act_count += int(act == 0)\n",
        "            regret4[t,r] = (t+1)*exp_opt_act - sum_rewards\n",
        "        \n",
        "        else :\n",
        "            opt_act_count += int(act == 1)\n",
        "            exp_opt_act = 0.9\n",
        "            regret4[t,r] = 9000 * 0.9 + (t+1 - 9000)*exp_opt_act - sum_rewards\n",
        "\n",
        "        perc_opt_act4[t,r] = opt_act_count / (t+1)\n",
        "        average_rewards4[t,r] = sum_rewards / (t+1)\n",
        "\n",
        "    env.reset()"
      ],
      "metadata": {
        "id": "ai2i7lGzPySk"
      },
      "execution_count": null,
      "outputs": []
    },
    {
      "cell_type": "code",
      "source": [
        "\n",
        "env.reset()\n",
        "regret5 = np.zeros((10000,50))\n",
        "perc_opt_act5 = np.zeros((10000,50))\n",
        "average_rewards5 = np.zeros((10000,50))\n",
        "\n",
        "for r in tqdm(range(50)):\n",
        "    exp_opt_act = 0.9\n",
        "    sum_rewards = 0\n",
        "    opt_act_count = 0\n",
        "\n",
        "    agent5 = AlwaysRandomAgent('1', env)\n",
        "\n",
        "    # agent4 = gradientAgent('1',env, alpha = 0.1, Baseline_lr = 0.01)\n",
        "    for t in range(10000):\n",
        "        rew , act, _ = agent5.take_action()\n",
        "        \n",
        "        sum_rewards += rew\n",
        "        \n",
        "        if t < 9000:\n",
        "            opt_act_count += int(act == 0)\n",
        "            regret5[t,r] = (t+1)*exp_opt_act - sum_rewards\n",
        "        \n",
        "        else :\n",
        "            opt_act_count += int(act == 1)\n",
        "            exp_opt_act = 0.9\n",
        "            regret5[t,r] = 9000 * 0.9 + (t+1 - 9000)*exp_opt_act - sum_rewards\n",
        "\n",
        "        perc_opt_act5[t,r] = opt_act_count / (t+1)\n",
        "        average_rewards5[t,r] = sum_rewards / (t+1)\n",
        "\n",
        "    env.reset()"
      ],
      "metadata": {
        "id": "waOPxDZfPySl"
      },
      "execution_count": null,
      "outputs": []
    },
    {
      "cell_type": "code",
      "source": [
        "som1 = np.std(perc_opt_act1,axis = 1) / np.sqrt(perc_opt_act1.shape[1])\n",
        "mean1 = np.mean(perc_opt_act1,axis = 1)\n",
        "\n",
        "som2 = np.std(perc_opt_act2,axis = 1) / np.sqrt(perc_opt_act2.shape[1])\n",
        "mean2 = np.mean(perc_opt_act2,axis = 1)\n",
        "\n",
        "som3 = np.std(perc_opt_act3,axis = 1) / np.sqrt(perc_opt_act3.shape[1])\n",
        "mean3 = np.mean(perc_opt_act3,axis = 1)\n",
        "\n",
        "som4 = np.std(perc_opt_act4,axis = 1) / np.sqrt(perc_opt_act4.shape[1])\n",
        "mean4 = np.mean(perc_opt_act4,axis = 1)\n",
        "\n",
        "som5 = np.std(perc_opt_act5,axis = 1) / np.sqrt(perc_opt_act5.shape[1])\n",
        "mean5 = np.mean(perc_opt_act5,axis = 1)\n",
        "\n",
        "fig, ax = plt.subplots()\n",
        "ax.plot(range(10000), mean1, 'b')\n",
        "ax.fill_between(range(10000), (mean1-som1), (mean1+som1), color='b', alpha=.1)\n",
        "ax.plot(range(10000), mean2,'r')\n",
        "ax.fill_between(range(10000), (mean2-som2), (mean2+som2), color='r', alpha=.1)\n",
        "ax.plot(range(10000), mean3, 'g')\n",
        "ax.fill_between(range(10000), (mean3-som3), (mean3+som3), color='g', alpha=.1)\n",
        "ax.plot(range(10000), mean4, 'black')\n",
        "ax.fill_between(range(10000), (mean4-som4), (mean4+som4), color='black', alpha=.1)\n",
        "ax.plot(range(10000), mean5, 'gray')\n",
        "ax.fill_between(range(10000), (mean5-som5), (mean5+som5), color='gray', alpha=.1)\n",
        "ax.set_ylabel('% Optimal action',rotation = 90)\n",
        "ax.set_xlabel('Steps')\n",
        "ax.legend([\"AlwaysBest\", \"BestPercent\",\"SecondBest\", \"AlwaysWorst\", \"AlwasRandom\" ])\n",
        "plt.show()"
      ],
      "metadata": {
        "id": "GkPOQkjmPySl"
      },
      "execution_count": null,
      "outputs": []
    },
    {
      "cell_type": "markdown",
      "source": [
        "### Test"
      ],
      "metadata": {
        "id": "WT-G_muSJW2U"
      }
    },
    {
      "cell_type": "markdown",
      "source": [
        "Agent id -1 is equivalant to None"
      ],
      "metadata": {
        "id": "BDVpDK72u6-y"
      }
    },
    {
      "cell_type": "code",
      "source": [
        "class MostFrequentSocialStrategy():\n",
        "    def __init__(self):\n",
        "    \n",
        "    def select_action(self, env, social_information, selecting_policy):\n",
        "        agent_id = np.random.choice(len(selecting_policy),p = selecting_policy)        \n",
        "        return env.agents_last_choice[agent_id], agent_id"
      ],
      "metadata": {
        "id": "YdKWVicoNAiy"
      },
      "execution_count": null,
      "outputs": []
    },
    {
      "cell_type": "code",
      "source": [
        "class PreferenceBasedSocialAgent(AgentBase):\n",
        "\n",
        "    def __init__(self, id, env, alpha, ilm):\n",
        "        super(PreferenceBasedSocialAgent, self).__init__(id, env)\n",
        "        self.alpha = np.ones(len(self.preference))*alpha\n",
        "        self.ilm = ilm \n",
        "        self.preferences = np.zeros(len(self.environment.agents_last_choice))+0.0001\n",
        "        # uniform initialization, (Others can be done, ourself 1 the others zero)\n",
        "        self.social_information = np.zeros((len(self.environment.agents_last_choice),self.environment.n_actions()))\n",
        "        self.selecting_policy = np.ones(len(self.environment.agents_last_choice))/len(self.environment.agents_last_choice)\n",
        "        self.total_mean_reward = 0 \n",
        "        self.t = 0\n",
        "        self.preferences_history  = {[] for i in range(len(self.preference))}\n",
        "        self.selecting_history = []\n",
        "\n",
        "    def update(self, u, action):\n",
        "        self.t += 1\n",
        "        self.total_mean_reward += (u - self.total_mean_reward)/self.t\n",
        "        same = []\n",
        "        for i in range(len(self.preferences)):\n",
        "            self.social_information[i][self.environment.agents_last_choice[i]] += 1\n",
        "            if self.environment.agents_last_choice[i]== action:\n",
        "                same.append[i]\n",
        "        if self.id not in same and self.individual.select_action() == action:\n",
        "            same.append(self.id)\n",
        "        \n",
        "        self.preferences -= self.alpha *  (u - self.total_mean_reward) * self.selecting_policy\n",
        "        for inedx in same:\n",
        "            self.preferences[index] += self.alpha * (u = self.total_mean_reward)\n",
        "        # self.preference = np.round(self.preference,2)\n",
        "        # d = np.sum(np.exp(self.preference))\n",
        "        # mask = np.ones(len(self.preference))*alpha\n",
        "        # self.preference = self.preference - mask * (Ri - self.mean_reward) * np.exp(self.preference)/d\n",
        "        # for index in same:\n",
        "        #     self.preference[index] = self.preference[index] + alpha * (Ri - self.mean_reward)\n",
        "\n",
        "        p = np.exp(self.preferences - np.max(self.preferences))\n",
        "        self.selecting_policy = p / p.sum(axis=0)\n",
        "        for i in range(len(self.preferences)):\n",
        "            self.preferences_history[i].append(self.selecting_policy[i])\n",
        "        # p =  np.round(np.exp(np.round(self.preferences,2)),2)\n",
        "        # self.selecting_policy = p/np.sum(p)\n",
        "        # for j in range(len(p)):\n",
        "        #     if np.isnan(p[j]):\n",
        "        #         p[j] = 1\n",
        "\n",
        "    def select_action(self, sls, ind_mode):\n",
        "        action, agent_id = sls.select_action(agent_id, self.environment, self.social_information, self.selecting_policy) \n",
        "        if agent_id == self.id or self.ind_mode:\n",
        "            self.selecting_history.append[self.id]\n",
        "            action = self.ilm.select_action()\n",
        "        else:\n",
        "            self.selecting_history.append[agent_id]\n",
        "\n",
        "        return action\n",
        "\n",
        "    def take_action(self, sls, ind_mode = False):\n",
        "        action = self.select_action(sls, ind_mode)\n",
        "        obs, r, d, i = self.environment.step(action, self.id)\n",
        "        u = self.utility_function(r)\n",
        "        self.update(u,action)\n",
        "        return r,action, u"
      ],
      "metadata": {
        "id": "zKt85cNFsHS2"
      },
      "execution_count": null,
      "outputs": []
    },
    {
      "cell_type": "code",
      "source": [
        "class MetaSocialLearnerAgent(AgentBase):\n",
        "\n",
        "    def __init__(self, id, env, ilm, slm, sls):\n",
        "        super(MetaSocialLearnerAgent, self).__init__(id, env)\n",
        "        self.ilm = ilm \n",
        "        self.slm = slm\n",
        "        self.sls = sls \n",
        "\n",
        "    def update(self):\n",
        "        # Novelty\n",
        "        # Volatileness\n",
        "        # Uncertainty\n",
        "    \n",
        "    def take_action(self):\n",
        "        r, action, u = self.slm.take_action(self.sls, ind_mode)\n",
        "        self.means[action], self.stds[action] = self.update(u,action)\n",
        "        return r,action, u"
      ],
      "metadata": {
        "id": "ARUX2qwyPhJS"
      },
      "execution_count": null,
      "outputs": []
    },
    {
      "cell_type": "code",
      "source": [
        "class population():\n",
        "\n",
        "    def __init__(self, ilms, slms, slss):"
      ],
      "metadata": {
        "id": "cSxgFpiXPrKQ"
      },
      "execution_count": null,
      "outputs": []
    },
    {
      "cell_type": "code",
      "source": [
        "class SocialBanditLearning():\n",
        "    def __init__(self, pop):\n",
        "\n",
        "\n",
        "    def\n",
        "\n",
        "n_trials, n_reps, "
      ],
      "metadata": {
        "id": "0iPOr6AvNYsG"
      },
      "execution_count": null,
      "outputs": []
    },
    {
      "cell_type": "code",
      "source": [
        "Det_Rew1 = [DeteriministicReward(0.8),DeteriministicReward(0.2)]\n",
        "Det_Rew2 = [DeteriministicReward(0.5),DeteriministicReward(0.2)]\n",
        "\n",
        "env1 = SocialMutliArmedBanditEnvironment(Det_Rew1, 1000)\n",
        "env2 = SocialMutliArmedBanditEnvironment(Det_Rew2, 1000)"
      ],
      "metadata": {
        "id": "mQmET_dGJY_7"
      },
      "execution_count": null,
      "outputs": []
    },
    {
      "cell_type": "code",
      "source": [
        "env1.reset()\n",
        "regret1 = np.zeros((1000,200))\n",
        "perc_opt_act1 = np.zeros((1000,200))\n",
        "average_rewards1 = np.zeros((1000,200))\n",
        "\n",
        "for r in tqdm(range(200)):\n",
        "    sum_rewards = 0\n",
        "    opt_act_count = 0\n",
        "    exp_opt_act = 0.8    \n",
        "    agent1 = EpsilonGreedyAgent('1', env1, epsilon = 0.1)\n",
        "    \n",
        "    for t in range(1000):\n",
        "        rew , act, _ = agent1.take_action()\n",
        "\n",
        "        sum_rewards += rew\n",
        "        opt_act_count += int(act == 0)\n",
        "        regret1[t,r] = (t+1)*exp_opt_act - sum_rewards\n",
        "\n",
        "        perc_opt_act1[t,r] = opt_act_count / (t+1)\n",
        "        average_rewards1[t,r] = sum_rewards / (t+1)\n",
        "\n",
        "    env1.reset()"
      ],
      "metadata": {
        "colab": {
          "base_uri": "https://localhost:8080/"
        },
        "id": "LmCh8P5VKGM4",
        "outputId": "4908b26b-ed02-4219-a9ec-c5d83c00d359"
      },
      "execution_count": null,
      "outputs": [
        {
          "output_type": "stream",
          "name": "stderr",
          "text": [
            "100%|██████████| 200/200 [00:05<00:00, 37.06it/s]\n"
          ]
        }
      ]
    },
    {
      "cell_type": "code",
      "source": [
        "env2.reset()\n",
        "regret2 = np.zeros((1000,200))\n",
        "perc_opt_act2 = np.zeros((1000,200))\n",
        "average_rewards2 = np.zeros((1000,200))\n",
        "\n",
        "for r in tqdm(range(200)):\n",
        "    sum_rewards = 0\n",
        "    opt_act_count = 0\n",
        "    exp_opt_act = 0.5    \n",
        "    agent2 = EpsilonGreedyAgent('1', env2, epsilon = 0.1, lr = 0.1)\n",
        "    \n",
        "    for t in range(1000):\n",
        "        rew , act, _ = agent1.take_action()\n",
        "\n",
        "        sum_rewards += rew\n",
        "        opt_act_count += int(act == 0)\n",
        "        regret2[t,r] = (t+1)*exp_opt_act - sum_rewards\n",
        "\n",
        "        perc_opt_act2[t,r] = opt_act_count / (t+1)\n",
        "        average_rewards2[t,r] = sum_rewards / (t+1)\n",
        "\n",
        "    env2.reset()"
      ],
      "metadata": {
        "colab": {
          "base_uri": "https://localhost:8080/"
        },
        "id": "fF7YAUGtLfUG",
        "outputId": "57290901-82fe-4e34-b2f0-2206e53f4625"
      },
      "execution_count": null,
      "outputs": [
        {
          "output_type": "stream",
          "name": "stderr",
          "text": [
            "100%|██████████| 200/200 [00:05<00:00, 37.69it/s]\n"
          ]
        }
      ]
    },
    {
      "cell_type": "code",
      "source": [
        "som1 = np.std(perc_opt_act1,axis = 1) / np.sqrt(perc_opt_act1.shape[1])\n",
        "mean1 = np.mean(perc_opt_act1,axis = 1)\n",
        "\n",
        "som2 = np.std(perc_opt_act2,axis = 1) / np.sqrt(perc_opt_act2.shape[1])\n",
        "mean2 = np.mean(perc_opt_act2,axis = 1)\n",
        "\n",
        "fig, ax = plt.subplots()\n",
        "ax.plot(range(1000), mean1, 'b')\n",
        "ax.fill_between(range(1000), (mean1-som1), (mean1+som1), color='b', alpha=.1)\n",
        "ax.plot(range(1000), mean2,'r')\n",
        "ax.fill_between(range(1000), (mean2-som2), (mean2+som2), color='r', alpha=.1)\n",
        "ax.set_ylabel('% Optimal action',rotation = 90)\n",
        "ax.set_xlabel('Steps')\n",
        "ax.legend([\"0.8-0.2\" , \"0.5-0.2\"])\n",
        "plt.show()"
      ],
      "metadata": {
        "colab": {
          "base_uri": "https://localhost:8080/",
          "height": 279
        },
        "id": "ExUYsxX6LSqr",
        "outputId": "4ffe52cb-c3d6-47d5-ac1e-7eaeeaf7f35e"
      },
      "execution_count": null,
      "outputs": [
        {
          "output_type": "display_data",
          "data": {
            "text/plain": [
              "<Figure size 432x288 with 1 Axes>"
            ],
            "image/png": "[encoded data removed]"
          },
          "metadata": {
            "needs_background": "light"
          }
        }
      ]
    },
    {
      "cell_type": "markdown",
      "source": [
        "# Social Learning"
      ],
      "metadata": {
        "id": "BX5FnIHPghU-"
      }
    },
    {
      "cell_type": "code",
      "execution_count": null,
      "metadata": {
        "id": "8ucXZ7Lq3RMO"
      },
      "outputs": [],
      "source": [
        "class Sciety():\n",
        "    def __init__(self, env=None, thompson_agent = 0, percent_agents = 1, p = [0.01], increase = [0.005], limit = [0.9], worst_agents = 1, random_agents = 4, UCBagent = 0):\n",
        "        self.agents = []\n",
        "        self.names = []\n",
        "        self.thompson_agent, self.percent_agents , self.p , self.increase , self.limit, self.worst_agents , self.random_agents, self.env = thompson_agent , percent_agents , p , increase , limit , worst_agents , random_agents, env\n",
        "        self.historyTotal = {}\n",
        "        self.UCBagent = UCBagent\n",
        "        for i in range(thompson_agent+percent_agents+worst_agents+random_agents +UCBagent):\n",
        "            self.historyTotal[i] = []\n",
        "        self.historyTotalR = {}\n",
        "        for i in range(thompson_agent+percent_agents+worst_agents+random_agents +UCBagent):\n",
        "            self.historyTotalR[i] = []\n",
        "        \n",
        "    def reset(self, env):\n",
        "        self.env = env\n",
        "        self.agents = []\n",
        "        self.names = []\n",
        "        for i in range(self.UCBagent):\n",
        "            self.agents.append(UCB(environment = self.env,id = len(self.agents)))\n",
        "        for i in range(self.thompson_agent):\n",
        "            self.agents.append(ThompsonAgent(environment = self.env,id = len(self.agents)))\n",
        "            self.names.append(\"thompson\")\n",
        "        for i in range(self.random_agents):\n",
        "            self.agents.append(alwaysRandomAgent(self.env,len(self.agents)))\n",
        "            self.names.append(\"random\")\n",
        "        for i in range(self.percent_agents):\n",
        "            self.agents.append(percentBestAgent(self.env,0.1,[1,1,1,1],len(self.agents), self.p[i], self.increase[i],self.limit[i]))\n",
        "            self.names.append(\"percent(\"+str(self.p[i])+\",\"+str(self.increase[i])+\",\"+str(self.limit[i])+\")\")\n",
        "        for i in range(self.worst_agents):\n",
        "            self.agents.append(alwaysWorstAgent(self.env,len(self.agents)))\n",
        "            self.names.append(\"worst\")\n",
        "        self.history = {}\n",
        "        for i in range(len(self.agents)):\n",
        "            self.history[i] = []\n",
        "        self.historyR = {}\n",
        "        for i in range(len(self.agents)):\n",
        "            self.historyR[i] = []\n",
        "        \n",
        "    def step(self):\n",
        "        for a in range(len(self.agents)):\n",
        "            obs, Ri, index_selected_arm = self.agents[a].take_action()\n",
        "            self.history[a].append(index_selected_arm)\n",
        "            self.historyR[a].append(Ri)\n",
        "    def historyRecord(self):\n",
        "        for a in range(len(self.agents)):\n",
        "            self.historyTotal[a].append(self.history[a])\n",
        "            self.historyTotalR[a].append(self.historyR[a])\n",
        "        self.history = {}\n",
        "        for i in range(len(self.agents)):\n",
        "            self.history[i] = []\n",
        "        self.historyR = {}\n",
        "        for i in range(len(self.agents)):\n",
        "            self.historyR[i] = []\n",
        "    def getCategories(self):\n",
        "        temp = {}\n",
        "        index = []\n",
        "        for n in range(len(self.names)):\n",
        "            if self.names[n] not in temp.keys() or \"percent\" in self.names[n]:\n",
        "                temp[self.names[n]] = 0\n",
        "                index.append(n)\n",
        "        return index"
      ]
    },
    {
      "cell_type": "code",
      "execution_count": null,
      "metadata": {
        "id": "WvTgi4QH14tS"
      },
      "outputs": [],
      "source": [
        "class SocialLearning:\n",
        "    def __init__(self, learner, society, individual, k_n_thr = 0, limit = 10000):\n",
        "        self.learner = learner\n",
        "        self.society = society\n",
        "        self.individual = individual\n",
        "        self.history = []\n",
        "        self.historyR = []\n",
        "        self.historyindividual = []\n",
        "        self.historyindividualR = []\n",
        "        self.best = []\n",
        "        self.bestR = []\n",
        "        self.preference_history = {}\n",
        "        self.id = 0\n",
        "        self.k_n_thr = k_n_thr\n",
        "        self.limit = limit\n",
        "\n",
        "    def iteration(self, env, trial_cnt, preferencelearner, threshold = 1000, noize = 0):\n",
        "        self.society.reset(env)\n",
        "        history = []\n",
        "        historyR = []\n",
        "        historyindividual = []\n",
        "        historyindividualR = []\n",
        "        if env.arm_count/len(self.society.agents) > self.k_n_thr:\n",
        "            socialLearner = self.learner(env,0.1,len(self.society.agents), preferencelearner, noize, self.limit)\n",
        "            self.id = socialLearner.id\n",
        "        else:\n",
        "            socialLearner = self.individual(environment = env,id = 0)\n",
        "        for i in range(trial_cnt):\n",
        "            self.society.step()\n",
        "            obs, Ri, index_selected_arm = socialLearner.take_action()\n",
        "            history.append(index_selected_arm)\n",
        "            historyR.append(Ri)\n",
        "        if env.arm_count/len(self.society.agents) > self.k_n_thr:\n",
        "            for i in range(len(socialLearner.preference_history)):\n",
        "                self.preference_history[i].append(socialLearner.preference_history[i])\n",
        "        individualLearner = self.individual(environment = env,id = 0)\n",
        "        for i in range(trial_cnt):\n",
        "            obs, Ri, index_selected_arm = individualLearner.take_action()\n",
        "            historyindividual.append(index_selected_arm)\n",
        "            historyindividualR.append(Ri)\n",
        "        self.historyindividual.append(historyindividual)\n",
        "        self.historyindividualR.append(historyindividualR)\n",
        "        self.society.historyRecord()\n",
        "        self.history.append(history)\n",
        "        self.historyR.append(historyR)\n",
        "    def loop(self, epoch = 10, iteration = 10, vars = [], rewards = [(i-100)/10 for i in range(200)], threshold = 1000, noize = 0, n = [100], reward_var = None, reward_means = None, random_reward = True, k = None, preferencelearner = None):\n",
        "        for i in range(len(self.society.historyTotal.keys())+1):\n",
        "            self.preference_history[i] = []\n",
        "        for (reward_means,reward_var) in zip(rewards, vars):\n",
        "            for i in range(iteration):               \n",
        "                env = NArmedBanditEnvironment(len(reward_means), reward_means, reward_var)\n",
        "                self.iteration(env, 1000, preferencelearner)\n",
        "                self.best.append(np.argmax(reward_means))\n",
        "                self.bestR.append(np.max(reward_means))\n",
        "    def optimalaction(self, hist):\n",
        "        poa = []\n",
        "        for i in range(len(hist)):\n",
        "            temp = [0]\n",
        "            for index_selected_arm in hist[i]:\n",
        "                temp.append(temp[-1]+int(index_selected_arm==self.best[i]))\n",
        "            temp = temp[1:]\n",
        "            for t in range(len(temp)):\n",
        "                temp[t] = temp[t]/(t+1)\n",
        "            poa.append(temp)\n",
        "        return poa\n",
        "    def regret(self, hist):\n",
        "        poa = []\n",
        "        for i in range(len(hist)):\n",
        "            temp = [((j+1)*self.bestR[i]-np.sum(hist[i][0:j])) for j in range(len(hist[i]))]\n",
        "            poa.append(temp)\n",
        "        return poa\n",
        "    def creward(self, hist):\n",
        "        poa = []\n",
        "        for i in range(len(hist)):\n",
        "            poa.append(hist[i])\n",
        "        return poa\n",
        "    def regretc(self, hist):\n",
        "        poa = []\n",
        "        for i in range(len(hist)):\n",
        "            temp = [(self.bestR[i]-hist[i][j]) for j in range(len(hist[i]))]\n",
        "            poa.append(temp)\n",
        "        return poa\n",
        "    def compare(self, all = False):\n",
        "        if all:\n",
        "            index = [i for i in range(len(self.society.agents))]\n",
        "        else:\n",
        "            index = self.society.getCategories()\n",
        "        data = {}\n",
        "        data[\"history action\"] = self.history\n",
        "        data[\"history reward\"] = self.historyR\n",
        "        data[\"index\"] = index\n",
        "        data[\"history individual action\"] = self.historyindividual\n",
        "        data[\"history individual reward\"] = self.historyindividualR\n",
        "        data[\"optimal action\"] = self.best\n",
        "        data[\"optimal action reward\"] = self.bestR\n",
        "        tmp = {}\n",
        "        tmp[\"social\"] = self.preference_history[self.id]\n",
        "        for i in index:\n",
        "            tmp[self.society.names[i]] = self.preference_history[i]\n",
        "        data[\"preference\"] = tmp\n",
        "        poa = {}\n",
        "        poa[\"social\"] = self.optimalaction(self.history)\n",
        "        poa[\"individual\"] = self.optimalaction(self.historyindividual)\n",
        "        for i in index:\n",
        "            poa[self.society.names[i]] = self.optimalaction(self.society.historyTotal[i])\n",
        "        data[\"percent of selecting the optimal action\"] = poa\n",
        "        poa = {}\n",
        "        poa[\"social\"] = self.regret(self.historyR)\n",
        "        poa[\"individual\"] = self.regret(self.historyindividualR)\n",
        "        data[\"regret\"] = poa\n",
        "        poa = {}\n",
        "        poa[\"social\"] = self.regretc(self.historyR)\n",
        "        poa[\"individual\"] = self.regretc(self.historyindividualR)\n",
        "        data[\"regretc\"] = poa\n",
        "        poa = {}\n",
        "        poa[\"social\"] = self.creward(self.historyR)\n",
        "        poa[\"individual\"] = self.creward(self.historyindividualR)\n",
        "        data[\"creward\"] = poa\n",
        "        return data"
      ]
    }
  ],
  "metadata": {
    "colab": {
      "provenance": [],
      "collapsed_sections": [
        "WT-G_muSJW2U",
        "TweQfzExrl2h",
        "6BJbW-zkPpy4"
      ],
      "authorship_tag": "ABX9TyOsPozcjDRTGGNsMnMDUiDD",
      "include_colab_link": true
    },
    "kernelspec": {
      "display_name": "Python 3",
      "name": "python3"
    },
    "language_info": {
      "name": "python"
    }
  },
  "nbformat": 4,
  "nbformat_minor": 0
}